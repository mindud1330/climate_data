{
 "cells": [
  {
   "cell_type": "code",
   "execution_count": 3,
   "metadata": {},
   "outputs": [],
   "source": [
    "import pandas as pd\n",
    "import numpy as np\n",
    "import seaborn as sns\n",
    "import matplotlib.pyplot as plt\n",
    "import scipy.stats as stats"
   ]
  },
  {
   "cell_type": "code",
   "execution_count": 4,
   "metadata": {},
   "outputs": [
    {
     "data": {
      "text/html": [
       "<div>\n",
       "<style scoped>\n",
       "    .dataframe tbody tr th:only-of-type {\n",
       "        vertical-align: middle;\n",
       "    }\n",
       "\n",
       "    .dataframe tbody tr th {\n",
       "        vertical-align: top;\n",
       "    }\n",
       "\n",
       "    .dataframe thead th {\n",
       "        text-align: right;\n",
       "    }\n",
       "</style>\n",
       "<table border=\"1\" class=\"dataframe\">\n",
       "  <thead>\n",
       "    <tr style=\"text-align: right;\">\n",
       "      <th></th>\n",
       "      <th>id</th>\n",
       "      <th>area</th>\n",
       "      <th>sex</th>\n",
       "      <th>age</th>\n",
       "      <th>edu</th>\n",
       "      <th>job</th>\n",
       "      <th>marry</th>\n",
       "      <th>child</th>\n",
       "      <th>income</th>\n",
       "      <th>pol</th>\n",
       "      <th>...</th>\n",
       "      <th>opinion5</th>\n",
       "      <th>opinion6</th>\n",
       "      <th>opinion7</th>\n",
       "      <th>opinion8</th>\n",
       "      <th>opinion9</th>\n",
       "      <th>opinion10</th>\n",
       "      <th>opinion11</th>\n",
       "      <th>opinion12</th>\n",
       "      <th>control_n</th>\n",
       "      <th>prac_intent</th>\n",
       "    </tr>\n",
       "  </thead>\n",
       "  <tbody>\n",
       "    <tr>\n",
       "      <td>count</td>\n",
       "      <td>3.088000e+03</td>\n",
       "      <td>3088.000000</td>\n",
       "      <td>3088.000000</td>\n",
       "      <td>3088.000000</td>\n",
       "      <td>3088.000000</td>\n",
       "      <td>3088.000000</td>\n",
       "      <td>3088.000000</td>\n",
       "      <td>3088.000000</td>\n",
       "      <td>3088.000000</td>\n",
       "      <td>2889.000000</td>\n",
       "      <td>...</td>\n",
       "      <td>3088.000000</td>\n",
       "      <td>3088.000000</td>\n",
       "      <td>3088.000000</td>\n",
       "      <td>3088.000000</td>\n",
       "      <td>3088.000000</td>\n",
       "      <td>3088.000000</td>\n",
       "      <td>3088.000000</td>\n",
       "      <td>3088.000000</td>\n",
       "      <td>3088.000000</td>\n",
       "      <td>3088.000000</td>\n",
       "    </tr>\n",
       "    <tr>\n",
       "      <td>mean</td>\n",
       "      <td>7.238860e+05</td>\n",
       "      <td>7.050194</td>\n",
       "      <td>0.496438</td>\n",
       "      <td>45.293394</td>\n",
       "      <td>2.543394</td>\n",
       "      <td>6.852979</td>\n",
       "      <td>1.721179</td>\n",
       "      <td>0.582902</td>\n",
       "      <td>5.178109</td>\n",
       "      <td>2.964001</td>\n",
       "      <td>...</td>\n",
       "      <td>1.984456</td>\n",
       "      <td>2.447215</td>\n",
       "      <td>2.827073</td>\n",
       "      <td>3.691710</td>\n",
       "      <td>3.738342</td>\n",
       "      <td>3.256477</td>\n",
       "      <td>2.934585</td>\n",
       "      <td>3.142163</td>\n",
       "      <td>8.624028</td>\n",
       "      <td>10.572215</td>\n",
       "    </tr>\n",
       "    <tr>\n",
       "      <td>std</td>\n",
       "      <td>3.439020e+05</td>\n",
       "      <td>4.591411</td>\n",
       "      <td>0.500068</td>\n",
       "      <td>13.848762</td>\n",
       "      <td>0.644476</td>\n",
       "      <td>2.937380</td>\n",
       "      <td>0.595016</td>\n",
       "      <td>0.493159</td>\n",
       "      <td>2.560574</td>\n",
       "      <td>0.874432</td>\n",
       "      <td>...</td>\n",
       "      <td>0.953614</td>\n",
       "      <td>0.949553</td>\n",
       "      <td>0.952323</td>\n",
       "      <td>0.909673</td>\n",
       "      <td>0.918545</td>\n",
       "      <td>0.911516</td>\n",
       "      <td>0.889558</td>\n",
       "      <td>0.911466</td>\n",
       "      <td>2.540026</td>\n",
       "      <td>2.206236</td>\n",
       "    </tr>\n",
       "    <tr>\n",
       "      <td>min</td>\n",
       "      <td>1.220000e+02</td>\n",
       "      <td>1.000000</td>\n",
       "      <td>0.000000</td>\n",
       "      <td>19.000000</td>\n",
       "      <td>1.000000</td>\n",
       "      <td>1.000000</td>\n",
       "      <td>1.000000</td>\n",
       "      <td>0.000000</td>\n",
       "      <td>1.000000</td>\n",
       "      <td>1.000000</td>\n",
       "      <td>...</td>\n",
       "      <td>1.000000</td>\n",
       "      <td>1.000000</td>\n",
       "      <td>1.000000</td>\n",
       "      <td>1.000000</td>\n",
       "      <td>1.000000</td>\n",
       "      <td>1.000000</td>\n",
       "      <td>1.000000</td>\n",
       "      <td>1.000000</td>\n",
       "      <td>3.000000</td>\n",
       "      <td>3.000000</td>\n",
       "    </tr>\n",
       "    <tr>\n",
       "      <td>25%</td>\n",
       "      <td>4.196480e+05</td>\n",
       "      <td>2.000000</td>\n",
       "      <td>0.000000</td>\n",
       "      <td>34.000000</td>\n",
       "      <td>2.000000</td>\n",
       "      <td>5.000000</td>\n",
       "      <td>1.000000</td>\n",
       "      <td>0.000000</td>\n",
       "      <td>3.000000</td>\n",
       "      <td>2.000000</td>\n",
       "      <td>...</td>\n",
       "      <td>1.000000</td>\n",
       "      <td>2.000000</td>\n",
       "      <td>2.000000</td>\n",
       "      <td>3.000000</td>\n",
       "      <td>3.000000</td>\n",
       "      <td>3.000000</td>\n",
       "      <td>2.000000</td>\n",
       "      <td>3.000000</td>\n",
       "      <td>7.000000</td>\n",
       "      <td>9.000000</td>\n",
       "    </tr>\n",
       "    <tr>\n",
       "      <td>50%</td>\n",
       "      <td>7.357820e+05</td>\n",
       "      <td>8.000000</td>\n",
       "      <td>0.000000</td>\n",
       "      <td>46.000000</td>\n",
       "      <td>2.000000</td>\n",
       "      <td>6.000000</td>\n",
       "      <td>2.000000</td>\n",
       "      <td>1.000000</td>\n",
       "      <td>5.000000</td>\n",
       "      <td>3.000000</td>\n",
       "      <td>...</td>\n",
       "      <td>2.000000</td>\n",
       "      <td>2.000000</td>\n",
       "      <td>3.000000</td>\n",
       "      <td>4.000000</td>\n",
       "      <td>4.000000</td>\n",
       "      <td>3.000000</td>\n",
       "      <td>3.000000</td>\n",
       "      <td>3.000000</td>\n",
       "      <td>9.000000</td>\n",
       "      <td>11.000000</td>\n",
       "    </tr>\n",
       "    <tr>\n",
       "      <td>75%</td>\n",
       "      <td>1.051656e+06</td>\n",
       "      <td>10.000000</td>\n",
       "      <td>1.000000</td>\n",
       "      <td>57.000000</td>\n",
       "      <td>3.000000</td>\n",
       "      <td>9.000000</td>\n",
       "      <td>2.000000</td>\n",
       "      <td>1.000000</td>\n",
       "      <td>7.000000</td>\n",
       "      <td>4.000000</td>\n",
       "      <td>...</td>\n",
       "      <td>3.000000</td>\n",
       "      <td>3.000000</td>\n",
       "      <td>3.000000</td>\n",
       "      <td>4.000000</td>\n",
       "      <td>4.000000</td>\n",
       "      <td>4.000000</td>\n",
       "      <td>3.000000</td>\n",
       "      <td>4.000000</td>\n",
       "      <td>10.000000</td>\n",
       "      <td>12.000000</td>\n",
       "    </tr>\n",
       "    <tr>\n",
       "      <td>max</td>\n",
       "      <td>1.267057e+06</td>\n",
       "      <td>17.000000</td>\n",
       "      <td>1.000000</td>\n",
       "      <td>69.000000</td>\n",
       "      <td>4.000000</td>\n",
       "      <td>12.000000</td>\n",
       "      <td>3.000000</td>\n",
       "      <td>1.000000</td>\n",
       "      <td>11.000000</td>\n",
       "      <td>5.000000</td>\n",
       "      <td>...</td>\n",
       "      <td>5.000000</td>\n",
       "      <td>5.000000</td>\n",
       "      <td>5.000000</td>\n",
       "      <td>5.000000</td>\n",
       "      <td>5.000000</td>\n",
       "      <td>5.000000</td>\n",
       "      <td>5.000000</td>\n",
       "      <td>5.000000</td>\n",
       "      <td>15.000000</td>\n",
       "      <td>15.000000</td>\n",
       "    </tr>\n",
       "  </tbody>\n",
       "</table>\n",
       "<p>8 rows × 115 columns</p>\n",
       "</div>"
      ],
      "text/plain": [
       "                 id         area          sex          age          edu  \\\n",
       "count  3.088000e+03  3088.000000  3088.000000  3088.000000  3088.000000   \n",
       "mean   7.238860e+05     7.050194     0.496438    45.293394     2.543394   \n",
       "std    3.439020e+05     4.591411     0.500068    13.848762     0.644476   \n",
       "min    1.220000e+02     1.000000     0.000000    19.000000     1.000000   \n",
       "25%    4.196480e+05     2.000000     0.000000    34.000000     2.000000   \n",
       "50%    7.357820e+05     8.000000     0.000000    46.000000     2.000000   \n",
       "75%    1.051656e+06    10.000000     1.000000    57.000000     3.000000   \n",
       "max    1.267057e+06    17.000000     1.000000    69.000000     4.000000   \n",
       "\n",
       "               job        marry        child       income          pol  ...  \\\n",
       "count  3088.000000  3088.000000  3088.000000  3088.000000  2889.000000  ...   \n",
       "mean      6.852979     1.721179     0.582902     5.178109     2.964001  ...   \n",
       "std       2.937380     0.595016     0.493159     2.560574     0.874432  ...   \n",
       "min       1.000000     1.000000     0.000000     1.000000     1.000000  ...   \n",
       "25%       5.000000     1.000000     0.000000     3.000000     2.000000  ...   \n",
       "50%       6.000000     2.000000     1.000000     5.000000     3.000000  ...   \n",
       "75%       9.000000     2.000000     1.000000     7.000000     4.000000  ...   \n",
       "max      12.000000     3.000000     1.000000    11.000000     5.000000  ...   \n",
       "\n",
       "          opinion5     opinion6     opinion7     opinion8     opinion9  \\\n",
       "count  3088.000000  3088.000000  3088.000000  3088.000000  3088.000000   \n",
       "mean      1.984456     2.447215     2.827073     3.691710     3.738342   \n",
       "std       0.953614     0.949553     0.952323     0.909673     0.918545   \n",
       "min       1.000000     1.000000     1.000000     1.000000     1.000000   \n",
       "25%       1.000000     2.000000     2.000000     3.000000     3.000000   \n",
       "50%       2.000000     2.000000     3.000000     4.000000     4.000000   \n",
       "75%       3.000000     3.000000     3.000000     4.000000     4.000000   \n",
       "max       5.000000     5.000000     5.000000     5.000000     5.000000   \n",
       "\n",
       "         opinion10    opinion11    opinion12    control_n  prac_intent  \n",
       "count  3088.000000  3088.000000  3088.000000  3088.000000  3088.000000  \n",
       "mean      3.256477     2.934585     3.142163     8.624028    10.572215  \n",
       "std       0.911516     0.889558     0.911466     2.540026     2.206236  \n",
       "min       1.000000     1.000000     1.000000     3.000000     3.000000  \n",
       "25%       3.000000     2.000000     3.000000     7.000000     9.000000  \n",
       "50%       3.000000     3.000000     3.000000     9.000000    11.000000  \n",
       "75%       4.000000     3.000000     4.000000    10.000000    12.000000  \n",
       "max       5.000000     5.000000     5.000000    15.000000    15.000000  \n",
       "\n",
       "[8 rows x 115 columns]"
      ]
     },
     "execution_count": 4,
     "metadata": {},
     "output_type": "execute_result"
    }
   ],
   "source": [
    "df = pd.read_excel(\"climate_survey-2023.xlsx\")\n",
    "df.describe()"
   ]
  },
  {
   "cell_type": "code",
   "execution_count": 5,
   "metadata": {},
   "outputs": [],
   "source": [
    "X_cols = ['concern', \n",
    "          'aware_cause', 'aware_solve', 'aware_tot', \n",
    "           'satis_mean2', \n",
    "           'risk', 'risk_me', 'impact_n', 'import_me',\n",
    "           'eco_at', 'prior_eco',\n",
    "           'behave_me', 'behave_other', \n",
    "           'control_n']\n",
    "damage_cols = ['damage_me', 'damage_family', 'damage_commun', \n",
    "               'damage_country', 'damage_country_high', 'damage_country_low', #damage_country\n",
    "               'damage_future', 'damage_org']\n",
    "psychological_cols = ['distance_index', 'distance_weighted']\n",
    "motive_cols = ['motive_profit', 'motive_norm', 'motive_pleasure', \n",
    "                'motive_bio', 'motive_selfish', 'motive_prosocial', \n",
    "                'motive_selfinterest', 'motive_environmental',\n",
    "                'motive_me', 'motive_com']\n",
    "Y_cols = ['prac_tot', 'prac_tot2', 'prac_ratio', 'prac_intent']\n",
    "C_cols = ['sex', 'age', 'area', 'edu', 'job', 'child', 'income', 'pol', \n",
    "           'media_trust', 'life_satis']"
   ]
  },
  {
   "cell_type": "markdown",
   "metadata": {},
   "source": [
    "### 독립변인과 종속변인 관계"
   ]
  },
  {
   "cell_type": "code",
   "execution_count": 6,
   "metadata": {},
   "outputs": [
    {
     "data": {
      "text/html": [
       "<div>\n",
       "<style scoped>\n",
       "    .dataframe tbody tr th:only-of-type {\n",
       "        vertical-align: middle;\n",
       "    }\n",
       "\n",
       "    .dataframe tbody tr th {\n",
       "        vertical-align: top;\n",
       "    }\n",
       "\n",
       "    .dataframe thead th {\n",
       "        text-align: right;\n",
       "    }\n",
       "</style>\n",
       "<table border=\"1\" class=\"dataframe\">\n",
       "  <thead>\n",
       "    <tr style=\"text-align: right;\">\n",
       "      <th></th>\n",
       "      <th>concern</th>\n",
       "      <th>aware_cause</th>\n",
       "      <th>aware_solve</th>\n",
       "      <th>aware_tot</th>\n",
       "      <th>satis_mean2</th>\n",
       "      <th>risk</th>\n",
       "      <th>risk_me</th>\n",
       "      <th>impact_n</th>\n",
       "      <th>import_me</th>\n",
       "      <th>eco_at</th>\n",
       "      <th>...</th>\n",
       "      <th>sex</th>\n",
       "      <th>age</th>\n",
       "      <th>area</th>\n",
       "      <th>edu</th>\n",
       "      <th>job</th>\n",
       "      <th>child</th>\n",
       "      <th>income</th>\n",
       "      <th>pol</th>\n",
       "      <th>media_trust</th>\n",
       "      <th>life_satis</th>\n",
       "    </tr>\n",
       "  </thead>\n",
       "  <tbody>\n",
       "    <tr>\n",
       "      <td>count</td>\n",
       "      <td>2868.000000</td>\n",
       "      <td>2868.000000</td>\n",
       "      <td>2868.000000</td>\n",
       "      <td>2868.000000</td>\n",
       "      <td>2868.000000</td>\n",
       "      <td>2868.000000</td>\n",
       "      <td>2868.000000</td>\n",
       "      <td>2868.00000</td>\n",
       "      <td>2868.000000</td>\n",
       "      <td>2868.000000</td>\n",
       "      <td>...</td>\n",
       "      <td>2868.000000</td>\n",
       "      <td>2868.000000</td>\n",
       "      <td>2868.000000</td>\n",
       "      <td>2868.000000</td>\n",
       "      <td>2868.000000</td>\n",
       "      <td>2868.000000</td>\n",
       "      <td>2868.000000</td>\n",
       "      <td>2868.000000</td>\n",
       "      <td>2868.000000</td>\n",
       "      <td>2868.000000</td>\n",
       "    </tr>\n",
       "    <tr>\n",
       "      <td>mean</td>\n",
       "      <td>3.824965</td>\n",
       "      <td>3.527197</td>\n",
       "      <td>3.331590</td>\n",
       "      <td>9.937238</td>\n",
       "      <td>2.613513</td>\n",
       "      <td>4.124826</td>\n",
       "      <td>3.642259</td>\n",
       "      <td>4.27371</td>\n",
       "      <td>4.102859</td>\n",
       "      <td>3.650279</td>\n",
       "      <td>...</td>\n",
       "      <td>0.485704</td>\n",
       "      <td>45.761855</td>\n",
       "      <td>7.039052</td>\n",
       "      <td>2.555439</td>\n",
       "      <td>6.809972</td>\n",
       "      <td>0.593445</td>\n",
       "      <td>5.239540</td>\n",
       "      <td>2.962343</td>\n",
       "      <td>2.949093</td>\n",
       "      <td>5.702580</td>\n",
       "    </tr>\n",
       "    <tr>\n",
       "      <td>std</td>\n",
       "      <td>0.736732</td>\n",
       "      <td>0.662114</td>\n",
       "      <td>0.699708</td>\n",
       "      <td>3.502488</td>\n",
       "      <td>0.543429</td>\n",
       "      <td>0.651074</td>\n",
       "      <td>0.735980</td>\n",
       "      <td>1.07548</td>\n",
       "      <td>0.710835</td>\n",
       "      <td>1.115923</td>\n",
       "      <td>...</td>\n",
       "      <td>0.499883</td>\n",
       "      <td>13.837115</td>\n",
       "      <td>4.594610</td>\n",
       "      <td>0.644849</td>\n",
       "      <td>2.921687</td>\n",
       "      <td>0.491276</td>\n",
       "      <td>2.564578</td>\n",
       "      <td>0.873980</td>\n",
       "      <td>0.800803</td>\n",
       "      <td>1.991025</td>\n",
       "    </tr>\n",
       "    <tr>\n",
       "      <td>min</td>\n",
       "      <td>1.000000</td>\n",
       "      <td>1.000000</td>\n",
       "      <td>1.000000</td>\n",
       "      <td>0.000000</td>\n",
       "      <td>1.000000</td>\n",
       "      <td>1.000000</td>\n",
       "      <td>1.000000</td>\n",
       "      <td>0.00000</td>\n",
       "      <td>1.000000</td>\n",
       "      <td>1.000000</td>\n",
       "      <td>...</td>\n",
       "      <td>0.000000</td>\n",
       "      <td>19.000000</td>\n",
       "      <td>1.000000</td>\n",
       "      <td>1.000000</td>\n",
       "      <td>1.000000</td>\n",
       "      <td>0.000000</td>\n",
       "      <td>1.000000</td>\n",
       "      <td>1.000000</td>\n",
       "      <td>1.000000</td>\n",
       "      <td>0.000000</td>\n",
       "    </tr>\n",
       "    <tr>\n",
       "      <td>25%</td>\n",
       "      <td>3.000000</td>\n",
       "      <td>3.000000</td>\n",
       "      <td>3.000000</td>\n",
       "      <td>8.000000</td>\n",
       "      <td>2.303030</td>\n",
       "      <td>4.000000</td>\n",
       "      <td>3.000000</td>\n",
       "      <td>4.00000</td>\n",
       "      <td>4.000000</td>\n",
       "      <td>3.000000</td>\n",
       "      <td>...</td>\n",
       "      <td>0.000000</td>\n",
       "      <td>35.000000</td>\n",
       "      <td>2.000000</td>\n",
       "      <td>2.000000</td>\n",
       "      <td>5.000000</td>\n",
       "      <td>0.000000</td>\n",
       "      <td>3.000000</td>\n",
       "      <td>2.000000</td>\n",
       "      <td>2.000000</td>\n",
       "      <td>5.000000</td>\n",
       "    </tr>\n",
       "    <tr>\n",
       "      <td>50%</td>\n",
       "      <td>4.000000</td>\n",
       "      <td>4.000000</td>\n",
       "      <td>3.000000</td>\n",
       "      <td>10.000000</td>\n",
       "      <td>2.606061</td>\n",
       "      <td>4.000000</td>\n",
       "      <td>4.000000</td>\n",
       "      <td>5.00000</td>\n",
       "      <td>4.000000</td>\n",
       "      <td>4.000000</td>\n",
       "      <td>...</td>\n",
       "      <td>0.000000</td>\n",
       "      <td>47.000000</td>\n",
       "      <td>8.000000</td>\n",
       "      <td>3.000000</td>\n",
       "      <td>6.000000</td>\n",
       "      <td>1.000000</td>\n",
       "      <td>5.000000</td>\n",
       "      <td>3.000000</td>\n",
       "      <td>3.000000</td>\n",
       "      <td>6.000000</td>\n",
       "    </tr>\n",
       "    <tr>\n",
       "      <td>75%</td>\n",
       "      <td>4.000000</td>\n",
       "      <td>4.000000</td>\n",
       "      <td>4.000000</td>\n",
       "      <td>13.000000</td>\n",
       "      <td>3.000000</td>\n",
       "      <td>5.000000</td>\n",
       "      <td>4.000000</td>\n",
       "      <td>5.00000</td>\n",
       "      <td>5.000000</td>\n",
       "      <td>4.000000</td>\n",
       "      <td>...</td>\n",
       "      <td>1.000000</td>\n",
       "      <td>58.000000</td>\n",
       "      <td>10.000000</td>\n",
       "      <td>3.000000</td>\n",
       "      <td>9.000000</td>\n",
       "      <td>1.000000</td>\n",
       "      <td>7.000000</td>\n",
       "      <td>4.000000</td>\n",
       "      <td>3.000000</td>\n",
       "      <td>7.000000</td>\n",
       "    </tr>\n",
       "    <tr>\n",
       "      <td>max</td>\n",
       "      <td>5.000000</td>\n",
       "      <td>5.000000</td>\n",
       "      <td>5.000000</td>\n",
       "      <td>16.000000</td>\n",
       "      <td>5.000000</td>\n",
       "      <td>5.000000</td>\n",
       "      <td>5.000000</td>\n",
       "      <td>5.00000</td>\n",
       "      <td>5.000000</td>\n",
       "      <td>5.000000</td>\n",
       "      <td>...</td>\n",
       "      <td>1.000000</td>\n",
       "      <td>69.000000</td>\n",
       "      <td>17.000000</td>\n",
       "      <td>4.000000</td>\n",
       "      <td>12.000000</td>\n",
       "      <td>1.000000</td>\n",
       "      <td>11.000000</td>\n",
       "      <td>5.000000</td>\n",
       "      <td>5.000000</td>\n",
       "      <td>10.000000</td>\n",
       "    </tr>\n",
       "  </tbody>\n",
       "</table>\n",
       "<p>8 rows × 38 columns</p>\n",
       "</div>"
      ],
      "text/plain": [
       "           concern  aware_cause  aware_solve    aware_tot  satis_mean2  \\\n",
       "count  2868.000000  2868.000000  2868.000000  2868.000000  2868.000000   \n",
       "mean      3.824965     3.527197     3.331590     9.937238     2.613513   \n",
       "std       0.736732     0.662114     0.699708     3.502488     0.543429   \n",
       "min       1.000000     1.000000     1.000000     0.000000     1.000000   \n",
       "25%       3.000000     3.000000     3.000000     8.000000     2.303030   \n",
       "50%       4.000000     4.000000     3.000000    10.000000     2.606061   \n",
       "75%       4.000000     4.000000     4.000000    13.000000     3.000000   \n",
       "max       5.000000     5.000000     5.000000    16.000000     5.000000   \n",
       "\n",
       "              risk      risk_me    impact_n    import_me       eco_at  ...  \\\n",
       "count  2868.000000  2868.000000  2868.00000  2868.000000  2868.000000  ...   \n",
       "mean      4.124826     3.642259     4.27371     4.102859     3.650279  ...   \n",
       "std       0.651074     0.735980     1.07548     0.710835     1.115923  ...   \n",
       "min       1.000000     1.000000     0.00000     1.000000     1.000000  ...   \n",
       "25%       4.000000     3.000000     4.00000     4.000000     3.000000  ...   \n",
       "50%       4.000000     4.000000     5.00000     4.000000     4.000000  ...   \n",
       "75%       5.000000     4.000000     5.00000     5.000000     4.000000  ...   \n",
       "max       5.000000     5.000000     5.00000     5.000000     5.000000  ...   \n",
       "\n",
       "               sex          age         area          edu          job  \\\n",
       "count  2868.000000  2868.000000  2868.000000  2868.000000  2868.000000   \n",
       "mean      0.485704    45.761855     7.039052     2.555439     6.809972   \n",
       "std       0.499883    13.837115     4.594610     0.644849     2.921687   \n",
       "min       0.000000    19.000000     1.000000     1.000000     1.000000   \n",
       "25%       0.000000    35.000000     2.000000     2.000000     5.000000   \n",
       "50%       0.000000    47.000000     8.000000     3.000000     6.000000   \n",
       "75%       1.000000    58.000000    10.000000     3.000000     9.000000   \n",
       "max       1.000000    69.000000    17.000000     4.000000    12.000000   \n",
       "\n",
       "             child       income          pol  media_trust   life_satis  \n",
       "count  2868.000000  2868.000000  2868.000000  2868.000000  2868.000000  \n",
       "mean      0.593445     5.239540     2.962343     2.949093     5.702580  \n",
       "std       0.491276     2.564578     0.873980     0.800803     1.991025  \n",
       "min       0.000000     1.000000     1.000000     1.000000     0.000000  \n",
       "25%       0.000000     3.000000     2.000000     2.000000     5.000000  \n",
       "50%       1.000000     5.000000     3.000000     3.000000     6.000000  \n",
       "75%       1.000000     7.000000     4.000000     3.000000     7.000000  \n",
       "max       1.000000    11.000000     5.000000     5.000000    10.000000  \n",
       "\n",
       "[8 rows x 38 columns]"
      ]
     },
     "execution_count": 6,
     "metadata": {},
     "output_type": "execute_result"
    }
   ],
   "source": [
    "data = df[X_cols + motive_cols + Y_cols + C_cols]\n",
    "data = data.dropna()\n",
    "data.describe()"
   ]
  },
  {
   "cell_type": "code",
   "execution_count": 7,
   "metadata": {},
   "outputs": [],
   "source": [
    "data['motive_socialinterest'] = data['motive_norm'] + data['motive_prosocial']"
   ]
  },
  {
   "cell_type": "markdown",
   "metadata": {},
   "source": [
    "## 빈도분포"
   ]
  },
  {
   "cell_type": "markdown",
   "metadata": {},
   "source": [
    "### 성별"
   ]
  },
  {
   "cell_type": "code",
   "execution_count": null,
   "metadata": {},
   "outputs": [],
   "source": [
    "frequency = data['sex'].value_counts()\n",
    "percentage = data['sex'].value_counts(normalize=True) * 100"
   ]
  },
  {
   "cell_type": "code",
   "execution_count": null,
   "metadata": {},
   "outputs": [
    {
     "name": "stdout",
     "output_type": "stream",
     "text": [
      "        Frequency  Percentage (%)\n",
      "Male         1475       51.429568\n",
      "Female       1393       48.570432\n"
     ]
    }
   ],
   "source": [
    "# make table\n",
    "frequency_table_sex = pd.DataFrame({\n",
    "    'Frequency': frequency,\n",
    "    'Percentage (%)': percentage\n",
    "})\n",
    "frequency_table_sex.index = ['Male', 'Female']\n",
    "print(frequency_table_sex)"
   ]
  },
  {
   "cell_type": "code",
   "execution_count": 18,
   "metadata": {},
   "outputs": [
    {
     "data": {
      "image/png": "[encoded data removed]",
      "text/plain": [
       "<Figure size 432x288 with 1 Axes>"
      ]
     },
     "metadata": {
      "needs_background": "light"
     },
     "output_type": "display_data"
    }
   ],
   "source": [
    "ax = frequency.plot(kind='bar', color='skyblue')\n",
    "\n",
    "# category names\n",
    "ax.set_xticklabels([\"Male\", \"Female\"], rotation=0)\n",
    "\n",
    "# title & label\n",
    "plt.title('Frequency Distribution of Sex')\n",
    "plt.xlabel('Sex')\n",
    "plt.ylabel('Frequency')\n",
    "\n",
    "# print graph\n",
    "plt.show()"
   ]
  },
  {
   "cell_type": "markdown",
   "metadata": {},
   "source": [
    "### 연령"
   ]
  },
  {
   "cell_type": "code",
   "execution_count": 43,
   "metadata": {},
   "outputs": [
    {
     "name": "stdout",
     "output_type": "stream",
     "text": [
      "19\n",
      "69\n"
     ]
    }
   ],
   "source": [
    "print(min(data['age']))\n",
    "print(max(data['age']))"
   ]
  },
  {
   "cell_type": "code",
   "execution_count": 28,
   "metadata": {},
   "outputs": [
    {
     "name": "stdout",
     "output_type": "stream",
     "text": [
      "45.7619(13.8371)\n"
     ]
    }
   ],
   "source": [
    "age_avg = data['age'].mean()\n",
    "age_sd = data['age'].std()\n",
    "print(f\"{age_avg:.4f}({age_sd:.4f})\")"
   ]
  },
  {
   "cell_type": "code",
   "execution_count": 44,
   "metadata": {},
   "outputs": [],
   "source": [
    "bins = [19, 29, 39, 49, 59, 69]\n",
    "labels = ['20-30', '30-40', '40-50', '50-60', '60-70']\n",
    "data['age_range'] = pd.cut(data['age'], \n",
    "                           bins=bins, labels=labels, \n",
    "                           right=True)\n",
    "\n",
    "frequency = data['age_range'].value_counts()\n",
    "percentage = data['age_range'].value_counts(normalize=True) * 100"
   ]
  },
  {
   "cell_type": "code",
   "execution_count": 45,
   "metadata": {},
   "outputs": [
    {
     "name": "stdout",
     "output_type": "stream",
     "text": [
      "       Frequency  Percentage (%)\n",
      "20-30        463       16.331570\n",
      "30-40        473       16.684303\n",
      "40-50        608       21.446208\n",
      "50-60        672       23.703704\n",
      "60-70        619       21.834215\n"
     ]
    }
   ],
   "source": [
    "# make table\n",
    "frequency_table_age = pd.DataFrame({\n",
    "    'Frequency': frequency,\n",
    "    'Percentage (%)': percentage\n",
    "})\n",
    "\n",
    "frequency_table_age = frequency_table_age.sort_index()\n",
    "print(frequency_table_age)"
   ]
  },
  {
   "cell_type": "code",
   "execution_count": 29,
   "metadata": {},
   "outputs": [
    {
     "data": {
      "image/png": "[encoded data removed]",
      "text/plain": [
       "<Figure size 432x288 with 1 Axes>"
      ]
     },
     "metadata": {
      "needs_background": "light"
     },
     "output_type": "display_data"
    }
   ],
   "source": [
    "plt.hist(data['age'], bins=11, color='skyblue', edgecolor='black')\n",
    "plt.xlabel('Age')\n",
    "plt.ylabel('Frequency')\n",
    "\n",
    "# 그래프 출력\n",
    "plt.show()"
   ]
  },
  {
   "cell_type": "markdown",
   "metadata": {},
   "source": [
    "### 교육 수준"
   ]
  },
  {
   "cell_type": "code",
   "execution_count": 29,
   "metadata": {},
   "outputs": [],
   "source": [
    "frequency = data['edu'].value_counts()\n",
    "percentage = data['edu'].value_counts(normalize=True) * 100"
   ]
  },
  {
   "cell_type": "code",
   "execution_count": 34,
   "metadata": {},
   "outputs": [
    {
     "name": "stdout",
     "output_type": "stream",
     "text": [
      "           Frequency  Percentage (%)\n",
      "중졸 이하             50        1.743375\n",
      "고졸              1367       47.663877\n",
      "대졸              1259       43.898187\n",
      "대학원 재학 이상        192        6.694561\n"
     ]
    }
   ],
   "source": [
    "# make table\n",
    "frequency_table_edu = pd.DataFrame({\n",
    "    'Frequency': frequency,\n",
    "    'Percentage (%)': percentage\n",
    "})\n",
    "frequency_table_edu = frequency_table_edu.sort_index()\n",
    "frequency_table_edu.index = ['중졸 이하', '고졸', '대졸', '대학원 재학 이상']\n",
    "print(frequency_table_edu)"
   ]
  },
  {
   "cell_type": "markdown",
   "metadata": {},
   "source": [
    "#### 연령-교육수준 상관"
   ]
  },
  {
   "cell_type": "code",
   "execution_count": 59,
   "metadata": {},
   "outputs": [
    {
     "data": {
      "image/png": "[encoded data removed]",
      "text/plain": [
       "<Figure size 432x288 with 1 Axes>"
      ]
     },
     "metadata": {
      "needs_background": "light"
     },
     "output_type": "display_data"
    }
   ],
   "source": [
    "plt.scatter(data['edu'], data['age'],\n",
    "            color='blue', edgecolor='black')\n",
    "plt.show()"
   ]
  },
  {
   "cell_type": "code",
   "execution_count": 41,
   "metadata": {},
   "outputs": [
    {
     "name": "stdout",
     "output_type": "stream",
     "text": [
      "피어슨 상관계수: -0.2888237778166045\n",
      "p-value: 3.1746292750959995e-56\n"
     ]
    }
   ],
   "source": [
    "corr, p_value = stats.pearsonr(data['age'], data['edu'])\n",
    "print(f'피어슨 상관계수: {corr}')\n",
    "print(f'p-value: {p_value}')"
   ]
  },
  {
   "cell_type": "markdown",
   "metadata": {},
   "source": [
    "### 자녀의 유무"
   ]
  },
  {
   "cell_type": "code",
   "execution_count": 46,
   "metadata": {},
   "outputs": [],
   "source": [
    "frequency = data['child'].value_counts()\n",
    "percentage = data['child'].value_counts(normalize=True) * 100"
   ]
  },
  {
   "cell_type": "code",
   "execution_count": 49,
   "metadata": {},
   "outputs": [
    {
     "name": "stdout",
     "output_type": "stream",
     "text": [
      "   Frequency  Percentage (%)\n",
      "유       1702       59.344491\n",
      "무       1166       40.655509\n"
     ]
    }
   ],
   "source": [
    "# make table\n",
    "frequency_table_child = pd.DataFrame({\n",
    "    'Frequency': frequency,\n",
    "    'Percentage (%)': percentage\n",
    "})\n",
    "frequency_table_child.index = ['유', '무']\n",
    "print(frequency_table_child)"
   ]
  },
  {
   "cell_type": "markdown",
   "metadata": {},
   "source": [
    "### 가계 월 평균 수입"
   ]
  },
  {
   "cell_type": "code",
   "execution_count": 50,
   "metadata": {},
   "outputs": [],
   "source": [
    "frequency = data['income'].value_counts()\n",
    "percentage = data['income'].value_counts(normalize=True) * 100"
   ]
  },
  {
   "cell_type": "code",
   "execution_count": 51,
   "metadata": {},
   "outputs": [
    {
     "name": "stdout",
     "output_type": "stream",
     "text": [
      "    Frequency  Percentage (%)\n",
      "1         120        4.184100\n",
      "2         229        7.984658\n",
      "3         440       15.341702\n",
      "4         493       17.189679\n",
      "5         465       16.213389\n",
      "6         345       12.029289\n",
      "7         228        7.949791\n",
      "8         175        6.101813\n",
      "9         117        4.079498\n",
      "10        103        3.591353\n",
      "11        153        5.334728\n"
     ]
    }
   ],
   "source": [
    "# make table\n",
    "frequency_table_income = pd.DataFrame({\n",
    "    'Frequency': frequency,\n",
    "    'Percentage (%)': percentage\n",
    "})\n",
    "\n",
    "frequency_table_income = frequency_table_income.sort_index()\n",
    "# frequency_table_income.index = ['유', '무']\n",
    "print(frequency_table_income)"
   ]
  },
  {
   "cell_type": "code",
   "execution_count": null,
   "metadata": {},
   "outputs": [],
   "source": [
    "income_avg = data['income'].mean()\n",
    "income_sd = data['income'].std()\n",
    "print(f\"{income_avg:.4f}({income_sd:.4f})\")"
   ]
  },
  {
   "cell_type": "code",
   "execution_count": 57,
   "metadata": {},
   "outputs": [
    {
     "data": {
      "image/png": "[encoded data removed]",
      "text/plain": [
       "<Figure size 432x288 with 1 Axes>"
      ]
     },
     "metadata": {
      "needs_background": "light"
     },
     "output_type": "display_data"
    }
   ],
   "source": [
    "plt.hist(data['income'], bins=11, color='skyblue', edgecolor='black')\n",
    "plt.title('Monthly Income')\n",
    "plt.xlabel('Value')\n",
    "plt.ylabel('Frequency')\n",
    "\n",
    "# 그래프 출력\n",
    "plt.show()"
   ]
  },
  {
   "cell_type": "markdown",
   "metadata": {},
   "source": [
    "### 정치성향"
   ]
  },
  {
   "cell_type": "code",
   "execution_count": 30,
   "metadata": {},
   "outputs": [],
   "source": [
    "frequency = data['pol'].value_counts()\n",
    "percentage = data['pol'].value_counts(normalize=True) * 100"
   ]
  },
  {
   "cell_type": "code",
   "execution_count": 31,
   "metadata": {},
   "outputs": [
    {
     "name": "stdout",
     "output_type": "stream",
     "text": [
      "     Frequency  Percentage (%)\n",
      "1.0        116        4.044630\n",
      "2.0        705       24.581590\n",
      "3.0       1316       45.885635\n",
      "4.0        633       22.071130\n",
      "5.0         98        3.417015\n"
     ]
    }
   ],
   "source": [
    "# make table\n",
    "frequency_table_pol = pd.DataFrame({\n",
    "    'Frequency': frequency,\n",
    "    'Percentage (%)': percentage\n",
    "})\n",
    "\n",
    "frequency_table_pol = frequency_table_pol.sort_index()\n",
    "# frequency_table_income.index = ['유', '무']\n",
    "print(frequency_table_pol)"
   ]
  },
  {
   "cell_type": "code",
   "execution_count": null,
   "metadata": {},
   "outputs": [
    {
     "data": {
      "image/png": "[encoded data removed]",
      "text/plain": [
       "<Figure size 432x288 with 1 Axes>"
      ]
     },
     "metadata": {
      "needs_background": "light"
     },
     "output_type": "display_data"
    }
   ],
   "source": [
    "plt.hist(data['pol'], bins=5, \n",
    "         color='skyblue', edgecolor='black'\n",
    "         )\n",
    "plt.title('Political')\n",
    "plt.xlabel('Value')\n",
    "plt.ylabel('Frequency')\n",
    "\n",
    "# 그래프 출력\n",
    "plt.show()"
   ]
  },
  {
   "cell_type": "markdown",
   "metadata": {},
   "source": [
    "### 동기"
   ]
  },
  {
   "cell_type": "code",
   "execution_count": 8,
   "metadata": {},
   "outputs": [],
   "source": [
    "import matplotlib\n",
    "matplotlib.rc('font', family='AppleGothic')  \n",
    "matplotlib.rcParams['axes.unicode_minus'] = False"
   ]
  },
  {
   "cell_type": "code",
   "execution_count": 9,
   "metadata": {},
   "outputs": [],
   "source": [
    "motive_self_avg = np.mean(data['motive_selfinterest'])\n",
    "motive_soc_avg = np.mean(data['motive_socialinterest'])"
   ]
  },
  {
   "cell_type": "code",
   "execution_count": 16,
   "metadata": {},
   "outputs": [
    {
     "data": {
      "image/png": "[encoded data removed]",
      "text/plain": [
       "<Figure size 576x288 with 1 Axes>"
      ]
     },
     "metadata": {
      "needs_background": "light"
     },
     "output_type": "display_data"
    }
   ],
   "source": [
    "plt.figure(figsize=(8, 4))\n",
    "plt.hist(data['motive_selfinterest'], bins=10, density=True, \n",
    "         color='Salmon', edgecolor='black', alpha=0.6)\n",
    "# plt.axvline(motive_self_avg, color='b', linestyle='dashed', linewidth=2, label=f'Mean: {motive_self_avg:.2f}')\n",
    "\n",
    "plt.tick_params(axis='x', labelsize=14)\n",
    "plt.tick_params(axis='y', labelsize=14)\n",
    "\n",
    "plt.xlabel('개인적 동기', fontsize=30)\n",
    "plt.ylabel('비율', fontsize=30)\n",
    "\n",
    "# 그래프 출력\n",
    "plt.show()"
   ]
  },
  {
   "cell_type": "code",
   "execution_count": 22,
   "metadata": {},
   "outputs": [
    {
     "data": {
      "image/png": "[encoded data removed]",
      "text/plain": [
       "<Figure size 576x288 with 1 Axes>"
      ]
     },
     "metadata": {
      "needs_background": "light"
     },
     "output_type": "display_data"
    }
   ],
   "source": [
    "plt.figure(figsize=(8, 4))\n",
    "plt.hist(data['motive_socialinterest'], bins=10, density=True, \n",
    "         color='LightSeaGreen', edgecolor='black', alpha=0.6)\n",
    "# plt.axvline(motive_soc_avg, color='b', linestyle='dashed', linewidth=2, label=f'Mean: {motive_soc_avg:.2f}')\n",
    "\n",
    "plt.tick_params(axis='x', labelsize=14)\n",
    "plt.tick_params(axis='y', labelsize=14)\n",
    "\n",
    "plt.xlabel('사회적 동기', fontsize=30)\n",
    "# plt.ylabel('비율', fontsize=30)\n",
    "\n",
    "# 그래프 출력\n",
    "plt.show()"
   ]
  },
  {
   "cell_type": "markdown",
   "metadata": {},
   "source": [
    "## 상관관계"
   ]
  },
  {
   "cell_type": "code",
   "execution_count": 63,
   "metadata": {},
   "outputs": [],
   "source": [
    "def calculate_correlation_matrix(df, method='pearson'):\n",
    "    variables = df.columns\n",
    "    n = len(variables)\n",
    "    corr_matrix = np.zeros((n, n))\n",
    "    p_matrix = np.zeros((n, n))\n",
    "    \n",
    "    for i in range(n):\n",
    "        for j in range(n):\n",
    "            if method == 'spearman':\n",
    "                corr, p_value = stats.spearmanr(df[variables[i]], df[variables[j]])\n",
    "            else:  # Pearson as default\n",
    "                corr, p_value = stats.pearsonr(df[variables[i]], df[variables[j]])\n",
    "            corr_matrix[i, j] = corr\n",
    "            p_matrix[i, j] = p_value\n",
    "    \n",
    "    corr_df = pd.DataFrame(corr_matrix, index=variables, columns=variables)\n",
    "    p_df = pd.DataFrame(p_matrix, index=variables, columns=variables)\n",
    "    \n",
    "    return corr_df, p_df"
   ]
  },
  {
   "cell_type": "code",
   "execution_count": 68,
   "metadata": {},
   "outputs": [
    {
     "name": "stdout",
     "output_type": "stream",
     "text": [
      "Correlation Matrix (Pearson):\n",
      "                       aware_tot    eco_at  prac_ratio  motive_selfinterest  \\\n",
      "aware_tot               1.000000  0.161440    0.234145             0.178260   \n",
      "eco_at                  0.161440  1.000000    0.426691             0.388830   \n",
      "prac_ratio              0.234145  0.426691    1.000000             0.463613   \n",
      "motive_selfinterest     0.178260  0.388830    0.463613             1.000000   \n",
      "motive_socialinterest   0.185211  0.432979    0.422793             0.658630   \n",
      "\n",
      "                       motive_socialinterest  \n",
      "aware_tot                           0.185211  \n",
      "eco_at                              0.432979  \n",
      "prac_ratio                          0.422793  \n",
      "motive_selfinterest                 0.658630  \n",
      "motive_socialinterest               1.000000  \n",
      "\n",
      "P-value Matrix:\n",
      "                          aware_tot         eco_at     prac_ratio  \\\n",
      "aware_tot              0.000000e+00   3.345884e-18   5.139275e-37   \n",
      "eco_at                 3.345884e-18   0.000000e+00  2.940419e-127   \n",
      "prac_ratio             5.139275e-37  2.940419e-127   0.000000e+00   \n",
      "motive_selfinterest    6.617661e-22  3.705085e-104  8.027765e-153   \n",
      "motive_socialinterest  1.507394e-23  2.163500e-131  9.695148e-125   \n",
      "\n",
      "                       motive_selfinterest  motive_socialinterest  \n",
      "aware_tot                     6.617661e-22           1.507394e-23  \n",
      "eco_at                       3.705085e-104          2.163500e-131  \n",
      "prac_ratio                   8.027765e-153          9.695148e-125  \n",
      "motive_selfinterest           0.000000e+00           0.000000e+00  \n",
      "motive_socialinterest         0.000000e+00           0.000000e+00  \n"
     ]
    }
   ],
   "source": [
    "corr_matrix, p_matrix = calculate_correlation_matrix(data[[\"aware_tot\", \"eco_at\", \"prac_ratio\", \"motive_selfinterest\", \"motive_socialinterest\"]], method='pearson')\n",
    "\n",
    "print(\"Correlation Matrix (Pearson):\")\n",
    "print(corr_matrix)\n",
    "\n",
    "print(\"\\nP-value Matrix:\")\n",
    "print(p_matrix)"
   ]
  },
  {
   "cell_type": "code",
   "execution_count": 67,
   "metadata": {},
   "outputs": [
    {
     "name": "stdout",
     "output_type": "stream",
     "text": [
      "Correlation Matrix (spearman):\n",
      "                       aware_tot    eco_at  prac_ratio  motive_selfinterest  \\\n",
      "aware_tot               1.000000  0.169101    0.228203             0.186507   \n",
      "eco_at                  0.169101  1.000000    0.437872             0.417094   \n",
      "prac_ratio              0.228203  0.437872    1.000000             0.464415   \n",
      "motive_selfinterest     0.186507  0.417094    0.464415             1.000000   \n",
      "motive_socialinterest   0.192751  0.472515    0.371664             0.651345   \n",
      "\n",
      "                       motive_socialinterest  \n",
      "aware_tot                           0.192751  \n",
      "eco_at                              0.472515  \n",
      "prac_ratio                          0.371664  \n",
      "motive_selfinterest                 0.651345  \n",
      "motive_socialinterest               1.000000  \n",
      "\n",
      "P-value Matrix:\n",
      "                          aware_tot         eco_at     prac_ratio  \\\n",
      "aware_tot              0.000000e+00   7.667875e-20   3.374566e-35   \n",
      "eco_at                 7.667875e-20   0.000000e+00  1.143333e-134   \n",
      "prac_ratio             3.374566e-35  1.143333e-134   0.000000e+00   \n",
      "motive_selfinterest    7.325722e-24  4.065024e-121  2.059976e-153   \n",
      "motive_socialinterest  2.099516e-25  1.797867e-159   1.222985e-94   \n",
      "\n",
      "                       motive_selfinterest  motive_socialinterest  \n",
      "aware_tot                     7.325722e-24           2.099516e-25  \n",
      "eco_at                       4.065024e-121          1.797867e-159  \n",
      "prac_ratio                   2.059976e-153           1.222985e-94  \n",
      "motive_selfinterest           0.000000e+00           0.000000e+00  \n",
      "motive_socialinterest         0.000000e+00           0.000000e+00  \n"
     ]
    }
   ],
   "source": [
    "corr_matrix, p_matrix = calculate_correlation_matrix(data[[\"aware_tot\", \"eco_at\", \"prac_ratio\", \"motive_selfinterest\", \"motive_socialinterest\"]], method='spearman')\n",
    "\n",
    "print(\"Correlation Matrix (spearman):\")\n",
    "print(corr_matrix)\n",
    "\n",
    "print(\"\\nP-value Matrix:\")\n",
    "print(p_matrix)"
   ]
  },
  {
   "cell_type": "code",
   "execution_count": null,
   "metadata": {},
   "outputs": [],
   "source": []
  }
 ],
 "metadata": {
  "kernelspec": {
   "display_name": "base",
   "language": "python",
   "name": "python3"
  },
  "language_info": {
   "codemirror_mode": {
    "name": "ipython",
    "version": 3
   },
   "file_extension": ".py",
   "mimetype": "text/x-python",
   "name": "python",
   "nbconvert_exporter": "python",
   "pygments_lexer": "ipython3",
   "version": "3.7.4"
  }
 },
 "nbformat": 4,
 "nbformat_minor": 2
}
