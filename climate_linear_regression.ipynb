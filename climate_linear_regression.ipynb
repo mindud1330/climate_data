{
 "cells": [
  {
   "cell_type": "code",
   "execution_count": 16,
   "metadata": {},
   "outputs": [],
   "source": [
    "import pandas as pd"
   ]
  },
  {
   "cell_type": "code",
   "execution_count": 17,
   "metadata": {},
   "outputs": [],
   "source": [
    "df = pd.read_excel(\"climate_survey-2018_ver2.xlsx\")"
   ]
  },
  {
   "cell_type": "code",
   "execution_count": 18,
   "metadata": {},
   "outputs": [
    {
     "name": "stdout",
     "output_type": "stream",
     "text": [
      "Index(['id', 'area', 'sex', 'age', 'edu', 'job', 'marry', 'child', 'income',\n",
      "       'pol', 'eco_c', 'satis1', 'satis2', 'satis3', 'satis4', 'satis5',\n",
      "       'satis6', 'satis7', 'satis8', 'satis_gen', 'satis_mean1', 'satis_mean2',\n",
      "       'aware1', 'aware2', 'aware3', 'aware4', 'aware5', 'aware6', 'aware7',\n",
      "       'aware8', 'aware9', 'aware10', 'aware11', 'aware12', 'aware13',\n",
      "       'aware14', 'aware15', 'aware16', 'aware17', 'aware_tot', 'occur',\n",
      "       'risk', 'risk_me', 'eco_at', 'prac1', 'prac2', 'prac3', 'prac4',\n",
      "       'prac5', 'prac6', 'prac7', 'prac8', 'prac9', 'prac_tot'],\n",
      "      dtype='object')\n"
     ]
    }
   ],
   "source": [
    "print(df.columns)"
   ]
  },
  {
   "cell_type": "code",
   "execution_count": 19,
   "metadata": {},
   "outputs": [],
   "source": [
    "X_cols = ['eco_c', 'satis_mean2', 'aware_tot', \n",
    "        'occur', 'risk', 'risk_me', 'eco_at']\n",
    "Y_cols = ['prac_tot']\n",
    "C_cols = ['sex', 'area', 'edu', 'job', 'child', 'income', 'pol']"
   ]
  },
  {
   "cell_type": "code",
   "execution_count": 20,
   "metadata": {},
   "outputs": [],
   "source": [
    "import statsmodels.api as sm"
   ]
  },
  {
   "cell_type": "code",
   "execution_count": 21,
   "metadata": {},
   "outputs": [],
   "source": [
    "C_cols = ['sex']"
   ]
  },
  {
   "cell_type": "markdown",
   "metadata": {},
   "source": [
    "## 다중회귀분석"
   ]
  },
  {
   "cell_type": "markdown",
   "metadata": {},
   "source": [
    "### 모든 독립 변인"
   ]
  },
  {
   "cell_type": "code",
   "execution_count": 22,
   "metadata": {},
   "outputs": [
    {
     "name": "stdout",
     "output_type": "stream",
     "text": [
      "                            OLS Regression Results                            \n",
      "==============================================================================\n",
      "Dep. Variable:               prac_tot   R-squared:                       0.215\n",
      "Model:                            OLS   Adj. R-squared:                  0.213\n",
      "Method:                 Least Squares   F-statistic:                     120.3\n",
      "Date:                Mon, 28 Oct 2024   Prob (F-statistic):          1.69e-156\n",
      "Time:                        23:35:46   Log-Likelihood:                -6544.1\n",
      "No. Observations:                3081   AIC:                         1.310e+04\n",
      "Df Residuals:                    3073   BIC:                         1.315e+04\n",
      "Df Model:                           7                                         \n",
      "Covariance Type:            nonrobust                                         \n",
      "===============================================================================\n",
      "                  coef    std err          t      P>|t|      [0.025      0.975]\n",
      "-------------------------------------------------------------------------------\n",
      "const          11.9256      0.369     32.280      0.000      11.201      12.650\n",
      "eco_c          -0.3957      0.061     -6.478      0.000      -0.515      -0.276\n",
      "satis_mean2    -0.0786      0.074     -1.055      0.292      -0.225       0.067\n",
      "aware_tot      -0.1050      0.013     -7.847      0.000      -0.131      -0.079\n",
      "occur           0.2239      0.098      2.295      0.022       0.033       0.415\n",
      "risk            0.0187      0.081      0.231      0.818      -0.141       0.178\n",
      "risk_me         0.2088      0.065      3.213      0.001       0.081       0.336\n",
      "eco_at          0.7696      0.042     18.110      0.000       0.686       0.853\n",
      "==============================================================================\n",
      "Omnibus:                      121.075   Durbin-Watson:                   1.967\n",
      "Prob(Omnibus):                  0.000   Jarque-Bera (JB):              134.726\n",
      "Skew:                           0.500   Prob(JB):                     5.55e-30\n",
      "Kurtosis:                       3.222   Cond. No.                         138.\n",
      "==============================================================================\n",
      "\n",
      "Warnings:\n",
      "[1] Standard Errors assume that the covariance matrix of the errors is correctly specified.\n"
     ]
    }
   ],
   "source": [
    "Y = df['prac_tot']\n",
    "X = df[X_cols]\n",
    "\n",
    "X = sm.add_constant(X)\n",
    "\n",
    "# linear regression\n",
    "model = sm.OLS(Y, X).fit()\n",
    "print(model.summary())"
   ]
  },
  {
   "cell_type": "code",
   "execution_count": 23,
   "metadata": {},
   "outputs": [
    {
     "name": "stdout",
     "output_type": "stream",
     "text": [
      "                            OLS Regression Results                            \n",
      "==============================================================================\n",
      "Dep. Variable:               prac_tot   R-squared:                       0.222\n",
      "Model:                            OLS   Adj. R-squared:                  0.220\n",
      "Method:                 Least Squares   F-statistic:                     109.5\n",
      "Date:                Mon, 28 Oct 2024   Prob (F-statistic):          2.72e-161\n",
      "Time:                        23:35:46   Log-Likelihood:                -6530.5\n",
      "No. Observations:                3081   AIC:                         1.308e+04\n",
      "Df Residuals:                    3072   BIC:                         1.313e+04\n",
      "Df Model:                           8                                         \n",
      "Covariance Type:            nonrobust                                         \n",
      "===============================================================================\n",
      "                  coef    std err          t      P>|t|      [0.025      0.975]\n",
      "-------------------------------------------------------------------------------\n",
      "const          12.3610      0.377     32.770      0.000      11.621      13.101\n",
      "eco_c          -0.3960      0.061     -6.510      0.000      -0.515      -0.277\n",
      "satis_mean2    -0.1059      0.074     -1.425      0.154      -0.252       0.040\n",
      "aware_tot      -0.1110      0.013     -8.304      0.000      -0.137      -0.085\n",
      "occur           0.2078      0.097      2.138      0.033       0.017       0.398\n",
      "risk            0.0075      0.081      0.092      0.927      -0.151       0.166\n",
      "risk_me         0.1875      0.065      2.892      0.004       0.060       0.315\n",
      "eco_at          0.7609      0.042     17.968      0.000       0.678       0.844\n",
      "sex            -0.3859      0.074     -5.220      0.000      -0.531      -0.241\n",
      "==============================================================================\n",
      "Omnibus:                      115.489   Durbin-Watson:                   1.969\n",
      "Prob(Omnibus):                  0.000   Jarque-Bera (JB):              127.818\n",
      "Skew:                           0.489   Prob(JB):                     1.76e-28\n",
      "Kurtosis:                       3.201   Cond. No.                         141.\n",
      "==============================================================================\n",
      "\n",
      "Warnings:\n",
      "[1] Standard Errors assume that the covariance matrix of the errors is correctly specified.\n"
     ]
    }
   ],
   "source": [
    "# 성별 통제\n",
    "XC = df[X_cols + C_cols]\n",
    "XC = sm.add_constant(XC)\n",
    "\n",
    "# linear regression\n",
    "model_addC = sm.OLS(Y, XC).fit()\n",
    "print(model_addC.summary())"
   ]
  },
  {
   "cell_type": "markdown",
   "metadata": {},
   "source": [
    "### .05에서 유의하지 않은 변인 제거\n",
    "- satis_mean2\n",
    "- risk"
   ]
  },
  {
   "cell_type": "code",
   "execution_count": 24,
   "metadata": {},
   "outputs": [],
   "source": [
    "X_cols = ['eco_c', 'aware_tot', 'occur', 'risk_me', 'eco_at']"
   ]
  },
  {
   "cell_type": "code",
   "execution_count": 25,
   "metadata": {},
   "outputs": [
    {
     "name": "stdout",
     "output_type": "stream",
     "text": [
      "                            OLS Regression Results                            \n",
      "==============================================================================\n",
      "Dep. Variable:               prac_tot   R-squared:                       0.215\n",
      "Model:                            OLS   Adj. R-squared:                  0.213\n",
      "Method:                 Least Squares   F-statistic:                     168.2\n",
      "Date:                Mon, 28 Oct 2024   Prob (F-statistic):          1.75e-158\n",
      "Time:                        23:35:46   Log-Likelihood:                -6544.7\n",
      "No. Observations:                3081   AIC:                         1.310e+04\n",
      "Df Residuals:                    3075   BIC:                         1.314e+04\n",
      "Df Model:                           5                                         \n",
      "Covariance Type:            nonrobust                                         \n",
      "==============================================================================\n",
      "                 coef    std err          t      P>|t|      [0.025      0.975]\n",
      "------------------------------------------------------------------------------\n",
      "const         11.7932      0.337     35.016      0.000      11.133      12.454\n",
      "eco_c         -0.3976      0.061     -6.540      0.000      -0.517      -0.278\n",
      "aware_tot     -0.1047      0.013     -7.839      0.000      -0.131      -0.079\n",
      "occur          0.2233      0.096      2.331      0.020       0.035       0.411\n",
      "risk_me        0.2007      0.055      3.654      0.000       0.093       0.308\n",
      "eco_at         0.7681      0.042     18.130      0.000       0.685       0.851\n",
      "==============================================================================\n",
      "Omnibus:                      119.975   Durbin-Watson:                   1.967\n",
      "Prob(Omnibus):                  0.000   Jarque-Bera (JB):              133.354\n",
      "Skew:                           0.498   Prob(JB):                     1.10e-29\n",
      "Kurtosis:                       3.216   Cond. No.                         123.\n",
      "==============================================================================\n",
      "\n",
      "Warnings:\n",
      "[1] Standard Errors assume that the covariance matrix of the errors is correctly specified.\n"
     ]
    }
   ],
   "source": [
    "X = df[X_cols]\n",
    "X = sm.add_constant(X)\n",
    "\n",
    "# linear regression\n",
    "model = sm.OLS(Y, X).fit()\n",
    "print(model.summary())"
   ]
  },
  {
   "cell_type": "code",
   "execution_count": 26,
   "metadata": {},
   "outputs": [
    {
     "name": "stdout",
     "output_type": "stream",
     "text": [
      "                            OLS Regression Results                            \n",
      "==============================================================================\n",
      "Dep. Variable:               prac_tot   R-squared:                       0.221\n",
      "Model:                            OLS   Adj. R-squared:                  0.220\n",
      "Method:                 Least Squares   F-statistic:                     145.7\n",
      "Date:                Mon, 28 Oct 2024   Prob (F-statistic):          5.15e-163\n",
      "Time:                        23:35:46   Log-Likelihood:                -6531.6\n",
      "No. Observations:                3081   AIC:                         1.308e+04\n",
      "Df Residuals:                    3074   BIC:                         1.312e+04\n",
      "Df Model:                           6                                         \n",
      "Covariance Type:            nonrobust                                         \n",
      "==============================================================================\n",
      "                 coef    std err          t      P>|t|      [0.025      0.975]\n",
      "------------------------------------------------------------------------------\n",
      "const         12.1573      0.343     35.461      0.000      11.485      12.829\n",
      "eco_c         -0.3973      0.061     -6.562      0.000      -0.516      -0.279\n",
      "aware_tot     -0.1105      0.013     -8.274      0.000      -0.137      -0.084\n",
      "occur          0.2033      0.095      2.130      0.033       0.016       0.391\n",
      "risk_me        0.1699      0.055      3.086      0.002       0.062       0.278\n",
      "eco_at         0.7585      0.042     17.958      0.000       0.676       0.841\n",
      "sex           -0.3780      0.074     -5.131      0.000      -0.522      -0.234\n",
      "==============================================================================\n",
      "Omnibus:                      113.688   Durbin-Watson:                   1.969\n",
      "Prob(Omnibus):                  0.000   Jarque-Bera (JB):              125.605\n",
      "Skew:                           0.485   Prob(JB):                     5.31e-28\n",
      "Kurtosis:                       3.193   Cond. No.                         125.\n",
      "==============================================================================\n",
      "\n",
      "Warnings:\n",
      "[1] Standard Errors assume that the covariance matrix of the errors is correctly specified.\n"
     ]
    }
   ],
   "source": [
    "# 성별 통제\n",
    "XC = df[X_cols + C_cols]\n",
    "XC = sm.add_constant(XC)\n",
    "\n",
    "# linear regression\n",
    "model_addC = sm.OLS(Y, XC).fit()\n",
    "print(model_addC.summary())"
   ]
  },
  {
   "cell_type": "markdown",
   "metadata": {},
   "source": [
    "### .005에서 유의하지 않은 변인 제거\n",
    "- occur"
   ]
  },
  {
   "cell_type": "code",
   "execution_count": 27,
   "metadata": {},
   "outputs": [],
   "source": [
    "X_cols = ['eco_c', 'aware_tot', 'risk_me', 'eco_at']"
   ]
  },
  {
   "cell_type": "code",
   "execution_count": 28,
   "metadata": {},
   "outputs": [
    {
     "name": "stdout",
     "output_type": "stream",
     "text": [
      "                            OLS Regression Results                            \n",
      "==============================================================================\n",
      "Dep. Variable:               prac_tot   R-squared:                       0.213\n",
      "Model:                            OLS   Adj. R-squared:                  0.212\n",
      "Method:                 Least Squares   F-statistic:                     208.6\n",
      "Date:                Mon, 28 Oct 2024   Prob (F-statistic):          1.70e-158\n",
      "Time:                        23:35:47   Log-Likelihood:                -6547.4\n",
      "No. Observations:                3081   AIC:                         1.310e+04\n",
      "Df Residuals:                    3076   BIC:                         1.314e+04\n",
      "Df Model:                           4                                         \n",
      "Covariance Type:            nonrobust                                         \n",
      "==============================================================================\n",
      "                 coef    std err          t      P>|t|      [0.025      0.975]\n",
      "------------------------------------------------------------------------------\n",
      "const         12.0407      0.320     37.646      0.000      11.414      12.668\n",
      "eco_c         -0.4004      0.061     -6.583      0.000      -0.520      -0.281\n",
      "aware_tot     -0.1086      0.013     -8.183      0.000      -0.135      -0.083\n",
      "risk_me        0.2167      0.055      3.972      0.000       0.110       0.324\n",
      "eco_at         0.7767      0.042     18.387      0.000       0.694       0.860\n",
      "==============================================================================\n",
      "Omnibus:                      121.007   Durbin-Watson:                   1.968\n",
      "Prob(Omnibus):                  0.000   Jarque-Bera (JB):              134.647\n",
      "Skew:                           0.500   Prob(JB):                     5.78e-30\n",
      "Kurtosis:                       3.223   Cond. No.                         116.\n",
      "==============================================================================\n",
      "\n",
      "Warnings:\n",
      "[1] Standard Errors assume that the covariance matrix of the errors is correctly specified.\n"
     ]
    }
   ],
   "source": [
    "X = df[X_cols]\n",
    "X = sm.add_constant(X)\n",
    "\n",
    "# linear regression\n",
    "model = sm.OLS(Y, X).fit()\n",
    "print(model.summary())"
   ]
  },
  {
   "cell_type": "code",
   "execution_count": 29,
   "metadata": {},
   "outputs": [
    {
     "name": "stdout",
     "output_type": "stream",
     "text": [
      "                            OLS Regression Results                            \n",
      "==============================================================================\n",
      "Dep. Variable:               prac_tot   R-squared:                       0.220\n",
      "Model:                            OLS   Adj. R-squared:                  0.219\n",
      "Method:                 Least Squares   F-statistic:                     173.7\n",
      "Date:                Mon, 28 Oct 2024   Prob (F-statistic):          3.54e-163\n",
      "Time:                        23:35:47   Log-Likelihood:                -6533.8\n",
      "No. Observations:                3081   AIC:                         1.308e+04\n",
      "Df Residuals:                    3075   BIC:                         1.312e+04\n",
      "Df Model:                           5                                         \n",
      "Covariance Type:            nonrobust                                         \n",
      "==============================================================================\n",
      "                 coef    std err          t      P>|t|      [0.025      0.975]\n",
      "------------------------------------------------------------------------------\n",
      "const         12.3885      0.325     38.074      0.000      11.751      13.026\n",
      "eco_c         -0.3999      0.061     -6.602      0.000      -0.519      -0.281\n",
      "aware_tot     -0.1141      0.013     -8.606      0.000      -0.140      -0.088\n",
      "risk_me        0.1838      0.055      3.362      0.001       0.077       0.291\n",
      "eco_at         0.7661      0.042     18.193      0.000       0.684       0.849\n",
      "sex           -0.3844      0.074     -5.219      0.000      -0.529      -0.240\n",
      "==============================================================================\n",
      "Omnibus:                      114.568   Durbin-Watson:                   1.970\n",
      "Prob(Omnibus):                  0.000   Jarque-Bera (JB):              126.689\n",
      "Skew:                           0.487   Prob(JB):                     3.09e-28\n",
      "Kurtosis:                       3.200   Cond. No.                         119.\n",
      "==============================================================================\n",
      "\n",
      "Warnings:\n",
      "[1] Standard Errors assume that the covariance matrix of the errors is correctly specified.\n"
     ]
    }
   ],
   "source": [
    "# 성별 통제\n",
    "XC = df[X_cols + C_cols]\n",
    "XC = sm.add_constant(XC)\n",
    "\n",
    "# linear regression\n",
    "model_addC = sm.OLS(Y, XC).fit()\n",
    "print(model_addC.summary())"
   ]
  }
 ],
 "metadata": {
  "kernelspec": {
   "display_name": "base",
   "language": "python",
   "name": "python3"
  },
  "language_info": {
   "codemirror_mode": {
    "name": "ipython",
    "version": 3
   },
   "file_extension": ".py",
   "mimetype": "text/x-python",
   "name": "python",
   "nbconvert_exporter": "python",
   "pygments_lexer": "ipython3",
   "version": "3.7.4"
  }
 },
 "nbformat": 4,
 "nbformat_minor": 2
}
