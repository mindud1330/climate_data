{
 "cells": [
  {
   "cell_type": "code",
   "execution_count": 177,
   "metadata": {},
   "outputs": [],
   "source": [
    "import pandas as pd"
   ]
  },
  {
   "cell_type": "code",
   "execution_count": 178,
   "metadata": {},
   "outputs": [],
   "source": [
    "df = pd.read_excel(\"climate_survey-2018.xlsx\")"
   ]
  },
  {
   "cell_type": "code",
   "execution_count": 179,
   "metadata": {},
   "outputs": [],
   "source": [
    "df = df.dropna()"
   ]
  },
  {
   "cell_type": "code",
   "execution_count": 180,
   "metadata": {},
   "outputs": [
    {
     "name": "stdout",
     "output_type": "stream",
     "text": [
      "Index(['id', 'area', 'sex', 'age', 'edu', 'job', 'marry', 'child', 'income',\n",
      "       'pol', 'concern', 'satis1', 'satis2', 'satis3', 'satis4', 'satis5',\n",
      "       'satis6', 'satis7', 'satis8', 'satis_gen', 'satis_mean1', 'satis_mean2',\n",
      "       'aware1', 'aware2', 'aware3', 'aware4', 'aware5', 'aware6', 'aware7',\n",
      "       'aware8', 'aware9', 'aware10', 'aware11', 'aware12', 'aware13',\n",
      "       'aware14', 'aware15', 'aware16', 'aware17', 'aware_tot', 'occur',\n",
      "       'risk', 'risk_me', 'eco_at', 'prac1', 'prac2', 'prac3', 'prac4',\n",
      "       'prac5', 'prac6', 'prac7', 'prac8', 'prac9', 'prac_tot'],\n",
      "      dtype='object')\n"
     ]
    }
   ],
   "source": [
    "print(df.columns)"
   ]
  },
  {
   "cell_type": "code",
   "execution_count": 181,
   "metadata": {},
   "outputs": [],
   "source": [
    "X_cols = ['concern', 'satis_mean2', 'aware_tot', \n",
    "        'occur', 'risk', 'risk_me', 'eco_at']\n",
    "Y_cols = ['prac_tot']\n",
    "C_cols = ['sex', 'age', 'area', 'edu', 'job', 'marry', 'child', 'income', 'pol']"
   ]
  },
  {
   "cell_type": "code",
   "execution_count": 182,
   "metadata": {},
   "outputs": [],
   "source": [
    "data = df[X_cols + Y_cols + C_cols]"
   ]
  },
  {
   "cell_type": "code",
   "execution_count": 183,
   "metadata": {},
   "outputs": [],
   "source": [
    "# center_cols = ['concern', 'satis_mean2', 'aware_tot', 'occur', 'risk', 'risk_me', 'eco_at', \n",
    "#                'prac_tot', \n",
    "#                'age', 'edu', 'income', 'pol']\n",
    "center_cols = ['concern', 'satis_mean2', 'aware_tot', 'occur', 'risk', 'risk_me', 'eco_at', \n",
    "               'prac_tot', \n",
    "               'age', 'edu', 'income', 'pol']\n",
    "data_centered = data.copy()"
   ]
  },
  {
   "cell_type": "code",
   "execution_count": 184,
   "metadata": {},
   "outputs": [
    {
     "data": {
      "text/html": [
       "<div>\n",
       "<style scoped>\n",
       "    .dataframe tbody tr th:only-of-type {\n",
       "        vertical-align: middle;\n",
       "    }\n",
       "\n",
       "    .dataframe tbody tr th {\n",
       "        vertical-align: top;\n",
       "    }\n",
       "\n",
       "    .dataframe thead th {\n",
       "        text-align: right;\n",
       "    }\n",
       "</style>\n",
       "<table border=\"1\" class=\"dataframe\">\n",
       "  <thead>\n",
       "    <tr style=\"text-align: right;\">\n",
       "      <th></th>\n",
       "      <th>concern</th>\n",
       "      <th>satis_mean2</th>\n",
       "      <th>aware_tot</th>\n",
       "      <th>occur</th>\n",
       "      <th>risk</th>\n",
       "      <th>risk_me</th>\n",
       "      <th>eco_at</th>\n",
       "      <th>prac_tot</th>\n",
       "      <th>sex</th>\n",
       "      <th>age</th>\n",
       "      <th>area</th>\n",
       "      <th>edu</th>\n",
       "      <th>job</th>\n",
       "      <th>marry</th>\n",
       "      <th>child</th>\n",
       "      <th>income</th>\n",
       "      <th>pol</th>\n",
       "    </tr>\n",
       "  </thead>\n",
       "  <tbody>\n",
       "    <tr>\n",
       "      <td>0</td>\n",
       "      <td>-0.916182</td>\n",
       "      <td>0.078626</td>\n",
       "      <td>-0.789258</td>\n",
       "      <td>-0.080055</td>\n",
       "      <td>0.097503</td>\n",
       "      <td>-0.277455</td>\n",
       "      <td>-0.155662</td>\n",
       "      <td>3.631543</td>\n",
       "      <td>1</td>\n",
       "      <td>-20.112213</td>\n",
       "      <td>8</td>\n",
       "      <td>0.107424</td>\n",
       "      <td>11</td>\n",
       "      <td>1</td>\n",
       "      <td>0</td>\n",
       "      <td>1.913787</td>\n",
       "      <td>-0.857338</td>\n",
       "    </tr>\n",
       "    <tr>\n",
       "      <td>1</td>\n",
       "      <td>0.083818</td>\n",
       "      <td>0.303626</td>\n",
       "      <td>5.210742</td>\n",
       "      <td>0.919945</td>\n",
       "      <td>1.097503</td>\n",
       "      <td>0.722545</td>\n",
       "      <td>0.844338</td>\n",
       "      <td>-3.368457</td>\n",
       "      <td>0</td>\n",
       "      <td>-4.112213</td>\n",
       "      <td>13</td>\n",
       "      <td>0.107424</td>\n",
       "      <td>6</td>\n",
       "      <td>2</td>\n",
       "      <td>1</td>\n",
       "      <td>-3.086213</td>\n",
       "      <td>0.142662</td>\n",
       "    </tr>\n",
       "    <tr>\n",
       "      <td>2</td>\n",
       "      <td>0.083818</td>\n",
       "      <td>-0.821374</td>\n",
       "      <td>-2.789258</td>\n",
       "      <td>-0.080055</td>\n",
       "      <td>1.097503</td>\n",
       "      <td>0.722545</td>\n",
       "      <td>0.844338</td>\n",
       "      <td>6.631543</td>\n",
       "      <td>0</td>\n",
       "      <td>7.887787</td>\n",
       "      <td>8</td>\n",
       "      <td>0.107424</td>\n",
       "      <td>7</td>\n",
       "      <td>2</td>\n",
       "      <td>1</td>\n",
       "      <td>-1.086213</td>\n",
       "      <td>0.142662</td>\n",
       "    </tr>\n",
       "    <tr>\n",
       "      <td>3</td>\n",
       "      <td>0.083818</td>\n",
       "      <td>-0.483874</td>\n",
       "      <td>-1.789258</td>\n",
       "      <td>-0.080055</td>\n",
       "      <td>-0.902497</td>\n",
       "      <td>-1.277455</td>\n",
       "      <td>-1.155662</td>\n",
       "      <td>2.631543</td>\n",
       "      <td>1</td>\n",
       "      <td>-1.112213</td>\n",
       "      <td>15</td>\n",
       "      <td>0.107424</td>\n",
       "      <td>9</td>\n",
       "      <td>2</td>\n",
       "      <td>1</td>\n",
       "      <td>-1.086213</td>\n",
       "      <td>0.142662</td>\n",
       "    </tr>\n",
       "    <tr>\n",
       "      <td>4</td>\n",
       "      <td>0.083818</td>\n",
       "      <td>-0.146374</td>\n",
       "      <td>1.210742</td>\n",
       "      <td>-0.080055</td>\n",
       "      <td>-0.902497</td>\n",
       "      <td>-0.277455</td>\n",
       "      <td>-1.155662</td>\n",
       "      <td>-2.368457</td>\n",
       "      <td>1</td>\n",
       "      <td>-7.112213</td>\n",
       "      <td>10</td>\n",
       "      <td>0.107424</td>\n",
       "      <td>6</td>\n",
       "      <td>2</td>\n",
       "      <td>1</td>\n",
       "      <td>1.913787</td>\n",
       "      <td>0.142662</td>\n",
       "    </tr>\n",
       "  </tbody>\n",
       "</table>\n",
       "</div>"
      ],
      "text/plain": [
       "    concern  satis_mean2  aware_tot     occur      risk   risk_me    eco_at  \\\n",
       "0 -0.916182     0.078626  -0.789258 -0.080055  0.097503 -0.277455 -0.155662   \n",
       "1  0.083818     0.303626   5.210742  0.919945  1.097503  0.722545  0.844338   \n",
       "2  0.083818    -0.821374  -2.789258 -0.080055  1.097503  0.722545  0.844338   \n",
       "3  0.083818    -0.483874  -1.789258 -0.080055 -0.902497 -1.277455 -1.155662   \n",
       "4  0.083818    -0.146374   1.210742 -0.080055 -0.902497 -0.277455 -1.155662   \n",
       "\n",
       "   prac_tot  sex        age  area       edu  job  marry  child    income  \\\n",
       "0  3.631543    1 -20.112213     8  0.107424   11      1      0  1.913787   \n",
       "1 -3.368457    0  -4.112213    13  0.107424    6      2      1 -3.086213   \n",
       "2  6.631543    0   7.887787     8  0.107424    7      2      1 -1.086213   \n",
       "3  2.631543    1  -1.112213    15  0.107424    9      2      1 -1.086213   \n",
       "4 -2.368457    1  -7.112213    10  0.107424    6      2      1  1.913787   \n",
       "\n",
       "        pol  \n",
       "0 -0.857338  \n",
       "1  0.142662  \n",
       "2  0.142662  \n",
       "3  0.142662  \n",
       "4  0.142662  "
      ]
     },
     "execution_count": 184,
     "metadata": {},
     "output_type": "execute_result"
    }
   ],
   "source": [
    "data_centered[center_cols] = data_centered[center_cols].apply(lambda x: x - x.mean())\n",
    "data_centered.head()"
   ]
  },
  {
   "cell_type": "code",
   "execution_count": 185,
   "metadata": {},
   "outputs": [
    {
     "name": "stdout",
     "output_type": "stream",
     "text": [
      "0\n"
     ]
    }
   ],
   "source": [
    "print(data_centered['pol'].isnull().sum())"
   ]
  },
  {
   "cell_type": "code",
   "execution_count": 186,
   "metadata": {},
   "outputs": [
    {
     "name": "stdout",
     "output_type": "stream",
     "text": [
      "Index(['concern', 'satis_mean2', 'aware_tot', 'occur', 'risk', 'risk_me',\n",
      "       'eco_at', 'prac_tot', 'sex', 'age', 'area', 'edu', 'job', 'marry',\n",
      "       'child', 'income', 'pol'],\n",
      "      dtype='object')\n"
     ]
    }
   ],
   "source": [
    "print(data.columns)"
   ]
  },
  {
   "cell_type": "code",
   "execution_count": 187,
   "metadata": {},
   "outputs": [],
   "source": [
    "import statsmodels.api as sm\n",
    "from statsmodels.stats.outliers_influence import variance_inflation_factor"
   ]
  },
  {
   "cell_type": "markdown",
   "metadata": {},
   "source": [
    "## 다중회귀분석"
   ]
  },
  {
   "cell_type": "markdown",
   "metadata": {},
   "source": [
    "### 모든 독립 변인"
   ]
  },
  {
   "cell_type": "code",
   "execution_count": 188,
   "metadata": {},
   "outputs": [
    {
     "name": "stdout",
     "output_type": "stream",
     "text": [
      "                            OLS Regression Results                            \n",
      "==============================================================================\n",
      "Dep. Variable:               prac_tot   R-squared:                       0.203\n",
      "Model:                            OLS   Adj. R-squared:                  0.202\n",
      "Method:                 Least Squares   F-statistic:                     106.3\n",
      "Date:                Fri, 01 Nov 2024   Prob (F-statistic):          5.06e-139\n",
      "Time:                        00:21:57   Log-Likelihood:                -6213.7\n",
      "No. Observations:                2923   AIC:                         1.244e+04\n",
      "Df Residuals:                    2915   BIC:                         1.249e+04\n",
      "Df Model:                           7                                         \n",
      "Covariance Type:            nonrobust                                         \n",
      "===============================================================================\n",
      "                  coef    std err          t      P>|t|      [0.025      0.975]\n",
      "-------------------------------------------------------------------------------\n",
      "const          12.2571      0.399     30.758      0.000      11.476      13.038\n",
      "concern        -0.4262      0.063     -6.715      0.000      -0.551      -0.302\n",
      "satis_mean2    -0.0860      0.077     -1.114      0.266      -0.237       0.065\n",
      "aware_tot      -0.1062      0.014     -7.538      0.000      -0.134      -0.079\n",
      "occur           0.1144      0.128      0.891      0.373      -0.137       0.366\n",
      "risk            0.0202      0.084      0.241      0.810      -0.144       0.185\n",
      "risk_me         0.2098      0.067      3.141      0.002       0.079       0.341\n",
      "eco_at          0.7449      0.044     17.014      0.000       0.659       0.831\n",
      "==============================================================================\n",
      "Omnibus:                      114.877   Durbin-Watson:                   1.967\n",
      "Prob(Omnibus):                  0.000   Jarque-Bera (JB):              127.793\n",
      "Skew:                           0.499   Prob(JB):                     1.78e-28\n",
      "Kurtosis:                       3.229   Cond. No.                         145.\n",
      "==============================================================================\n",
      "\n",
      "Warnings:\n",
      "[1] Standard Errors assume that the covariance matrix of the errors is correctly specified.\n"
     ]
    },
    {
     "name": "stderr",
     "output_type": "stream",
     "text": [
      "/Users/min/.pyenv/versions/anaconda3-2019.10/lib/python3.7/site-packages/numpy/core/fromnumeric.py:2495: FutureWarning: Method .ptp is deprecated and will be removed in a future version. Use numpy.ptp instead.\n",
      "  return ptp(axis=axis, out=out, **kwargs)\n"
     ]
    }
   ],
   "source": [
    "Y = data['prac_tot']\n",
    "X = data[X_cols]\n",
    "\n",
    "X = sm.add_constant(X)\n",
    "\n",
    "# linear regression\n",
    "model = sm.OLS(Y, X).fit()\n",
    "print(model.summary())"
   ]
  },
  {
   "cell_type": "code",
   "execution_count": 189,
   "metadata": {},
   "outputs": [
    {
     "name": "stdout",
     "output_type": "stream",
     "text": [
      "       feature         VIF\n",
      "0        const  112.595648\n",
      "1      concern    1.268694\n",
      "2  satis_mean2    1.126109\n",
      "3    aware_tot    1.170063\n",
      "4        occur    1.084852\n",
      "5         risk    1.592408\n",
      "6      risk_me    1.546031\n",
      "7       eco_at    1.185854\n"
     ]
    }
   ],
   "source": [
    "vif_data = pd.DataFrame()\n",
    "vif_data[\"feature\"] = X.columns\n",
    "vif_data[\"VIF\"] = [variance_inflation_factor(X.values, i) for i in range(X.shape[1])]\n",
    "\n",
    "print(vif_data)"
   ]
  },
  {
   "cell_type": "markdown",
   "metadata": {},
   "source": [
    "#### 평균 중심화"
   ]
  },
  {
   "cell_type": "code",
   "execution_count": 190,
   "metadata": {},
   "outputs": [
    {
     "name": "stdout",
     "output_type": "stream",
     "text": [
      "                            OLS Regression Results                            \n",
      "==============================================================================\n",
      "Dep. Variable:               prac_tot   R-squared:                       0.203\n",
      "Model:                            OLS   Adj. R-squared:                  0.202\n",
      "Method:                 Least Squares   F-statistic:                     106.3\n",
      "Date:                Fri, 01 Nov 2024   Prob (F-statistic):          5.06e-139\n",
      "Time:                        00:21:57   Log-Likelihood:                -6213.7\n",
      "No. Observations:                2923   AIC:                         1.244e+04\n",
      "Df Residuals:                    2915   BIC:                         1.249e+04\n",
      "Df Model:                           7                                         \n",
      "Covariance Type:            nonrobust                                         \n",
      "===============================================================================\n",
      "                  coef    std err          t      P>|t|      [0.025      0.975]\n",
      "-------------------------------------------------------------------------------\n",
      "const        2.151e-16      0.038   5.73e-15      1.000      -0.074       0.074\n",
      "concern        -0.4262      0.063     -6.715      0.000      -0.551      -0.302\n",
      "satis_mean2    -0.0860      0.077     -1.114      0.266      -0.237       0.065\n",
      "aware_tot      -0.1062      0.014     -7.538      0.000      -0.134      -0.079\n",
      "occur           0.1144      0.128      0.891      0.373      -0.137       0.366\n",
      "risk            0.0202      0.084      0.241      0.810      -0.144       0.185\n",
      "risk_me         0.2098      0.067      3.141      0.002       0.079       0.341\n",
      "eco_at          0.7449      0.044     17.014      0.000       0.659       0.831\n",
      "==============================================================================\n",
      "Omnibus:                      114.877   Durbin-Watson:                   1.967\n",
      "Prob(Omnibus):                  0.000   Jarque-Bera (JB):              127.793\n",
      "Skew:                           0.499   Prob(JB):                     1.78e-28\n",
      "Kurtosis:                       3.229   Cond. No.                         10.0\n",
      "==============================================================================\n",
      "\n",
      "Warnings:\n",
      "[1] Standard Errors assume that the covariance matrix of the errors is correctly specified.\n"
     ]
    }
   ],
   "source": [
    "Y = data_centered['prac_tot']\n",
    "X_centered = data_centered[X_cols]\n",
    "\n",
    "X_centered = sm.add_constant(X_centered)\n",
    "\n",
    "# linear regression\n",
    "model_centered = sm.OLS(Y, X_centered).fit()\n",
    "print(model_centered.summary())"
   ]
  },
  {
   "cell_type": "code",
   "execution_count": 191,
   "metadata": {},
   "outputs": [
    {
     "name": "stdout",
     "output_type": "stream",
     "text": [
      "       feature       VIF\n",
      "0        const  1.000000\n",
      "1      concern  1.268694\n",
      "2  satis_mean2  1.126109\n",
      "3    aware_tot  1.170063\n",
      "4        occur  1.084852\n",
      "5         risk  1.592408\n",
      "6      risk_me  1.546031\n",
      "7       eco_at  1.185854\n"
     ]
    }
   ],
   "source": [
    "vif_data_centered = pd.DataFrame()\n",
    "vif_data_centered[\"feature\"] = X_centered.columns\n",
    "vif_data_centered[\"VIF\"] = [variance_inflation_factor(X_centered.values, i) for i in range(X_centered.shape[1])]\n",
    "\n",
    "print(vif_data_centered)"
   ]
  },
  {
   "cell_type": "markdown",
   "metadata": {},
   "source": [
    "#### 통제 변인 다중 회귀"
   ]
  },
  {
   "cell_type": "code",
   "execution_count": 192,
   "metadata": {},
   "outputs": [
    {
     "name": "stdout",
     "output_type": "stream",
     "text": [
      "                            OLS Regression Results                            \n",
      "==============================================================================\n",
      "Dep. Variable:               prac_tot   R-squared:                       0.041\n",
      "Model:                            OLS   Adj. R-squared:                  0.038\n",
      "Method:                 Least Squares   F-statistic:                     13.81\n",
      "Date:                Fri, 01 Nov 2024   Prob (F-statistic):           5.45e-22\n",
      "Time:                        00:21:58   Log-Likelihood:                -6485.0\n",
      "No. Observations:                2923   AIC:                         1.299e+04\n",
      "Df Residuals:                    2913   BIC:                         1.305e+04\n",
      "Df Model:                           9                                         \n",
      "Covariance Type:            nonrobust                                         \n",
      "==============================================================================\n",
      "                 coef    std err          t      P>|t|      [0.025      0.975]\n",
      "------------------------------------------------------------------------------\n",
      "const         -0.4096      0.230     -1.778      0.076      -0.861       0.042\n",
      "sex           -0.4471      0.086     -5.194      0.000      -0.616      -0.278\n",
      "age           -0.0296      0.004     -6.741      0.000      -0.038      -0.021\n",
      "area           0.0297      0.009      3.313      0.001       0.012       0.047\n",
      "edu           -0.1522      0.071     -2.133      0.033      -0.292      -0.012\n",
      "job           -0.0376      0.016     -2.395      0.017      -0.068      -0.007\n",
      "marry          0.4732      0.131      3.600      0.000       0.215       0.731\n",
      "child         -0.2431      0.155     -1.571      0.116      -0.546       0.060\n",
      "income        -0.0321      0.018     -1.748      0.081      -0.068       0.004\n",
      "pol            0.1057      0.046      2.294      0.022       0.015       0.196\n",
      "==============================================================================\n",
      "Omnibus:                      154.370   Durbin-Watson:                   1.995\n",
      "Prob(Omnibus):                  0.000   Jarque-Bera (JB):              179.124\n",
      "Skew:                           0.606   Prob(JB):                     1.27e-39\n",
      "Kurtosis:                       3.014   Cond. No.                         83.6\n",
      "==============================================================================\n",
      "\n",
      "Warnings:\n",
      "[1] Standard Errors assume that the covariance matrix of the errors is correctly specified.\n"
     ]
    }
   ],
   "source": [
    "C = data_centered[C_cols]\n",
    "C = sm.add_constant(C)\n",
    "\n",
    "# linear regression\n",
    "modelC = sm.OLS(Y, C).fit()\n",
    "print(modelC.summary())"
   ]
  },
  {
   "cell_type": "code",
   "execution_count": 193,
   "metadata": {},
   "outputs": [
    {
     "name": "stdout",
     "output_type": "stream",
     "text": [
      "  feature        VIF\n",
      "0   const  31.230315\n",
      "1     sex   1.088269\n",
      "2     age   1.963790\n",
      "3    area   1.020230\n",
      "4     edu   1.101365\n",
      "5     job   1.085712\n",
      "6   marry   2.909372\n",
      "7   child   3.152143\n",
      "8  income   1.084043\n",
      "9     pol   1.045902\n"
     ]
    }
   ],
   "source": [
    "vif_data_c = pd.DataFrame()\n",
    "vif_data_c[\"feature\"] = C.columns\n",
    "vif_data_c[\"VIF\"] = [variance_inflation_factor(C.values, i) for i in range(C.shape[1])]\n",
    "\n",
    "print(vif_data_c)"
   ]
  },
  {
   "cell_type": "markdown",
   "metadata": {},
   "source": [
    "#### 통제 변인 추가"
   ]
  },
  {
   "cell_type": "code",
   "execution_count": 194,
   "metadata": {},
   "outputs": [],
   "source": [
    "C_cols = ['sex', 'age']"
   ]
  },
  {
   "cell_type": "code",
   "execution_count": 195,
   "metadata": {},
   "outputs": [
    {
     "name": "stdout",
     "output_type": "stream",
     "text": [
      "                            OLS Regression Results                            \n",
      "==============================================================================\n",
      "Dep. Variable:               prac_tot   R-squared:                       0.210\n",
      "Model:                            OLS   Adj. R-squared:                  0.208\n",
      "Method:                 Least Squares   F-statistic:                     86.21\n",
      "Date:                Fri, 01 Nov 2024   Prob (F-statistic):          1.86e-142\n",
      "Time:                        00:21:58   Log-Likelihood:                -6201.0\n",
      "No. Observations:                2923   AIC:                         1.242e+04\n",
      "Df Residuals:                    2913   BIC:                         1.248e+04\n",
      "Df Model:                           9                                         \n",
      "Covariance Type:            nonrobust                                         \n",
      "===============================================================================\n",
      "                  coef    std err          t      P>|t|      [0.025      0.975]\n",
      "-------------------------------------------------------------------------------\n",
      "const           0.1804      0.052      3.455      0.001       0.078       0.283\n",
      "concern        -0.4193      0.063     -6.606      0.000      -0.544      -0.295\n",
      "satis_mean2    -0.1089      0.077     -1.409      0.159      -0.260       0.043\n",
      "aware_tot      -0.1097      0.014     -7.687      0.000      -0.138      -0.082\n",
      "occur           0.1043      0.128      0.815      0.415      -0.147       0.355\n",
      "risk            0.0099      0.084      0.119      0.905      -0.154       0.174\n",
      "risk_me         0.1931      0.067      2.884      0.004       0.062       0.324\n",
      "eco_at          0.7323      0.044     16.639      0.000       0.646       0.819\n",
      "sex            -0.3766      0.076     -4.954      0.000      -0.526      -0.228\n",
      "age            -0.0024      0.003     -0.821      0.412      -0.008       0.003\n",
      "==============================================================================\n",
      "Omnibus:                      110.325   Durbin-Watson:                   1.969\n",
      "Prob(Omnibus):                  0.000   Jarque-Bera (JB):              122.147\n",
      "Skew:                           0.490   Prob(JB):                     2.99e-27\n",
      "Kurtosis:                       3.208   Cond. No.                         45.6\n",
      "==============================================================================\n",
      "\n",
      "Warnings:\n",
      "[1] Standard Errors assume that the covariance matrix of the errors is correctly specified.\n"
     ]
    }
   ],
   "source": [
    "# 성별 & 나이 통제\n",
    "XC = data_centered[X_cols + C_cols]\n",
    "XC = sm.add_constant(XC)\n",
    "\n",
    "# linear regression\n",
    "model_addC = sm.OLS(Y, XC).fit()\n",
    "print(model_addC.summary())"
   ]
  },
  {
   "cell_type": "code",
   "execution_count": 196,
   "metadata": {},
   "outputs": [
    {
     "name": "stdout",
     "output_type": "stream",
     "text": [
      "       feature       VIF\n",
      "0        const  1.947428\n",
      "1      concern  1.279274\n",
      "2  satis_mean2  1.137093\n",
      "3    aware_tot  1.210581\n",
      "4        occur  1.085670\n",
      "5         risk  1.593351\n",
      "6      risk_me  1.565593\n",
      "7       eco_at  1.207734\n",
      "8          sex  1.030666\n",
      "9          age  1.095550\n"
     ]
    }
   ],
   "source": [
    "vif_data_c = pd.DataFrame()\n",
    "vif_data_c[\"feature\"] = XC.columns\n",
    "vif_data_c[\"VIF\"] = [variance_inflation_factor(XC.values, i) for i in range(XC.shape[1])]\n",
    "\n",
    "print(vif_data_c)"
   ]
  },
  {
   "cell_type": "markdown",
   "metadata": {},
   "source": [
    "##### 통제 변인으로 지역 추가"
   ]
  },
  {
   "cell_type": "code",
   "execution_count": 197,
   "metadata": {},
   "outputs": [
    {
     "data": {
      "text/html": [
       "<div>\n",
       "<style scoped>\n",
       "    .dataframe tbody tr th:only-of-type {\n",
       "        vertical-align: middle;\n",
       "    }\n",
       "\n",
       "    .dataframe tbody tr th {\n",
       "        vertical-align: top;\n",
       "    }\n",
       "\n",
       "    .dataframe thead th {\n",
       "        text-align: right;\n",
       "    }\n",
       "</style>\n",
       "<table border=\"1\" class=\"dataframe\">\n",
       "  <thead>\n",
       "    <tr style=\"text-align: right;\">\n",
       "      <th></th>\n",
       "      <th>concern</th>\n",
       "      <th>satis_mean2</th>\n",
       "      <th>aware_tot</th>\n",
       "      <th>occur</th>\n",
       "      <th>risk</th>\n",
       "      <th>risk_me</th>\n",
       "      <th>eco_at</th>\n",
       "      <th>prac_tot</th>\n",
       "      <th>sex</th>\n",
       "      <th>age</th>\n",
       "      <th>...</th>\n",
       "      <th>area_8</th>\n",
       "      <th>area_9</th>\n",
       "      <th>area_10</th>\n",
       "      <th>area_11</th>\n",
       "      <th>area_12</th>\n",
       "      <th>area_13</th>\n",
       "      <th>area_14</th>\n",
       "      <th>area_15</th>\n",
       "      <th>area_16</th>\n",
       "      <th>area_17</th>\n",
       "    </tr>\n",
       "  </thead>\n",
       "  <tbody>\n",
       "    <tr>\n",
       "      <td>0</td>\n",
       "      <td>-0.916182</td>\n",
       "      <td>0.078626</td>\n",
       "      <td>-0.789258</td>\n",
       "      <td>-0.080055</td>\n",
       "      <td>0.097503</td>\n",
       "      <td>-0.277455</td>\n",
       "      <td>-0.155662</td>\n",
       "      <td>3.631543</td>\n",
       "      <td>1</td>\n",
       "      <td>-20.112213</td>\n",
       "      <td>...</td>\n",
       "      <td>1</td>\n",
       "      <td>0</td>\n",
       "      <td>0</td>\n",
       "      <td>0</td>\n",
       "      <td>0</td>\n",
       "      <td>0</td>\n",
       "      <td>0</td>\n",
       "      <td>0</td>\n",
       "      <td>0</td>\n",
       "      <td>0</td>\n",
       "    </tr>\n",
       "    <tr>\n",
       "      <td>1</td>\n",
       "      <td>0.083818</td>\n",
       "      <td>0.303626</td>\n",
       "      <td>5.210742</td>\n",
       "      <td>0.919945</td>\n",
       "      <td>1.097503</td>\n",
       "      <td>0.722545</td>\n",
       "      <td>0.844338</td>\n",
       "      <td>-3.368457</td>\n",
       "      <td>0</td>\n",
       "      <td>-4.112213</td>\n",
       "      <td>...</td>\n",
       "      <td>0</td>\n",
       "      <td>0</td>\n",
       "      <td>0</td>\n",
       "      <td>0</td>\n",
       "      <td>0</td>\n",
       "      <td>1</td>\n",
       "      <td>0</td>\n",
       "      <td>0</td>\n",
       "      <td>0</td>\n",
       "      <td>0</td>\n",
       "    </tr>\n",
       "    <tr>\n",
       "      <td>2</td>\n",
       "      <td>0.083818</td>\n",
       "      <td>-0.821374</td>\n",
       "      <td>-2.789258</td>\n",
       "      <td>-0.080055</td>\n",
       "      <td>1.097503</td>\n",
       "      <td>0.722545</td>\n",
       "      <td>0.844338</td>\n",
       "      <td>6.631543</td>\n",
       "      <td>0</td>\n",
       "      <td>7.887787</td>\n",
       "      <td>...</td>\n",
       "      <td>1</td>\n",
       "      <td>0</td>\n",
       "      <td>0</td>\n",
       "      <td>0</td>\n",
       "      <td>0</td>\n",
       "      <td>0</td>\n",
       "      <td>0</td>\n",
       "      <td>0</td>\n",
       "      <td>0</td>\n",
       "      <td>0</td>\n",
       "    </tr>\n",
       "    <tr>\n",
       "      <td>3</td>\n",
       "      <td>0.083818</td>\n",
       "      <td>-0.483874</td>\n",
       "      <td>-1.789258</td>\n",
       "      <td>-0.080055</td>\n",
       "      <td>-0.902497</td>\n",
       "      <td>-1.277455</td>\n",
       "      <td>-1.155662</td>\n",
       "      <td>2.631543</td>\n",
       "      <td>1</td>\n",
       "      <td>-1.112213</td>\n",
       "      <td>...</td>\n",
       "      <td>0</td>\n",
       "      <td>0</td>\n",
       "      <td>0</td>\n",
       "      <td>0</td>\n",
       "      <td>0</td>\n",
       "      <td>0</td>\n",
       "      <td>0</td>\n",
       "      <td>1</td>\n",
       "      <td>0</td>\n",
       "      <td>0</td>\n",
       "    </tr>\n",
       "    <tr>\n",
       "      <td>4</td>\n",
       "      <td>0.083818</td>\n",
       "      <td>-0.146374</td>\n",
       "      <td>1.210742</td>\n",
       "      <td>-0.080055</td>\n",
       "      <td>-0.902497</td>\n",
       "      <td>-0.277455</td>\n",
       "      <td>-1.155662</td>\n",
       "      <td>-2.368457</td>\n",
       "      <td>1</td>\n",
       "      <td>-7.112213</td>\n",
       "      <td>...</td>\n",
       "      <td>0</td>\n",
       "      <td>0</td>\n",
       "      <td>1</td>\n",
       "      <td>0</td>\n",
       "      <td>0</td>\n",
       "      <td>0</td>\n",
       "      <td>0</td>\n",
       "      <td>0</td>\n",
       "      <td>0</td>\n",
       "      <td>0</td>\n",
       "    </tr>\n",
       "  </tbody>\n",
       "</table>\n",
       "<p>5 rows × 32 columns</p>\n",
       "</div>"
      ],
      "text/plain": [
       "    concern  satis_mean2  aware_tot     occur      risk   risk_me    eco_at  \\\n",
       "0 -0.916182     0.078626  -0.789258 -0.080055  0.097503 -0.277455 -0.155662   \n",
       "1  0.083818     0.303626   5.210742  0.919945  1.097503  0.722545  0.844338   \n",
       "2  0.083818    -0.821374  -2.789258 -0.080055  1.097503  0.722545  0.844338   \n",
       "3  0.083818    -0.483874  -1.789258 -0.080055 -0.902497 -1.277455 -1.155662   \n",
       "4  0.083818    -0.146374   1.210742 -0.080055 -0.902497 -0.277455 -1.155662   \n",
       "\n",
       "   prac_tot  sex        age  ...  area_8  area_9  area_10  area_11  area_12  \\\n",
       "0  3.631543    1 -20.112213  ...       1       0        0        0        0   \n",
       "1 -3.368457    0  -4.112213  ...       0       0        0        0        0   \n",
       "2  6.631543    0   7.887787  ...       1       0        0        0        0   \n",
       "3  2.631543    1  -1.112213  ...       0       0        0        0        0   \n",
       "4 -2.368457    1  -7.112213  ...       0       0        1        0        0   \n",
       "\n",
       "   area_13  area_14  area_15  area_16  area_17  \n",
       "0        0        0        0        0        0  \n",
       "1        1        0        0        0        0  \n",
       "2        0        0        0        0        0  \n",
       "3        0        0        1        0        0  \n",
       "4        0        0        0        0        0  \n",
       "\n",
       "[5 rows x 32 columns]"
      ]
     },
     "execution_count": 197,
     "metadata": {},
     "output_type": "execute_result"
    }
   ],
   "source": [
    "data_d = pd.get_dummies(data_centered, columns=['area'], drop_first=True)\n",
    "data_d.head()"
   ]
  },
  {
   "cell_type": "code",
   "execution_count": 198,
   "metadata": {},
   "outputs": [
    {
     "name": "stdout",
     "output_type": "stream",
     "text": [
      "Index(['concern', 'satis_mean2', 'aware_tot', 'occur', 'risk', 'risk_me',\n",
      "       'eco_at', 'prac_tot', 'sex', 'age', 'edu', 'job', 'marry', 'child',\n",
      "       'income', 'pol', 'area_2', 'area_3', 'area_4', 'area_5', 'area_6',\n",
      "       'area_7', 'area_8', 'area_9', 'area_10', 'area_11', 'area_12',\n",
      "       'area_13', 'area_14', 'area_15', 'area_16', 'area_17'],\n",
      "      dtype='object')\n"
     ]
    }
   ],
   "source": [
    "print(data_d.columns)"
   ]
  },
  {
   "cell_type": "code",
   "execution_count": 199,
   "metadata": {},
   "outputs": [],
   "source": [
    "area_cols = ['area_2', 'area_3', 'area_4', 'area_5', \n",
    "        'area_6', 'area_7', 'area_8', 'area_9', 'area_10', \n",
    "        'area_11', 'area_12', 'area_13', 'area_14', \n",
    "        'area_15', 'area_16', 'area_17']\n",
    "C_cols = C_cols + area_cols"
   ]
  },
  {
   "cell_type": "code",
   "execution_count": 200,
   "metadata": {},
   "outputs": [
    {
     "name": "stdout",
     "output_type": "stream",
     "text": [
      "                            OLS Regression Results                            \n",
      "==============================================================================\n",
      "Dep. Variable:               prac_tot   R-squared:                       0.040\n",
      "Model:                            OLS   Adj. R-squared:                  0.034\n",
      "Method:                 Least Squares   F-statistic:                     6.783\n",
      "Date:                Fri, 01 Nov 2024   Prob (F-statistic):           4.33e-17\n",
      "Time:                        00:21:58   Log-Likelihood:                -6485.9\n",
      "No. Observations:                2923   AIC:                         1.301e+04\n",
      "Df Residuals:                    2904   BIC:                         1.312e+04\n",
      "Df Model:                          18                                         \n",
      "Covariance Type:            nonrobust                                         \n",
      "==============================================================================\n",
      "                 coef    std err          t      P>|t|      [0.025      0.975]\n",
      "------------------------------------------------------------------------------\n",
      "const         -0.1940      0.102     -1.907      0.057      -0.393       0.005\n",
      "sex           -0.4476      0.083     -5.408      0.000      -0.610      -0.285\n",
      "age           -0.0200      0.003     -6.372      0.000      -0.026      -0.014\n",
      "area_2         0.3164      0.185      1.708      0.088      -0.047       0.680\n",
      "area_3         0.5337      0.206      2.596      0.009       0.131       0.937\n",
      "area_4         0.1767      0.196      0.901      0.368      -0.208       0.561\n",
      "area_5         0.5716      0.259      2.204      0.028       0.063       1.080\n",
      "area_6         0.8752      0.258      3.393      0.001       0.369       1.381\n",
      "area_7         0.9208      0.286      3.217      0.001       0.360       1.482\n",
      "area_8         0.4534      0.124      3.659      0.000       0.210       0.696\n",
      "area_9         1.2748      0.258      4.940      0.000       0.769       1.781\n",
      "area_10        0.6669      0.263      2.531      0.011       0.150       1.184\n",
      "area_11        0.5465      0.230      2.380      0.017       0.096       0.997\n",
      "area_12        0.6376      0.248      2.567      0.010       0.151       1.125\n",
      "area_13        0.1772      0.245      0.723      0.470      -0.303       0.658\n",
      "area_14        0.3177      0.207      1.532      0.126      -0.089       0.724\n",
      "area_15        0.6712      0.187      3.582      0.000       0.304       1.039\n",
      "area_16        0.4934      0.400      1.235      0.217      -0.290       1.277\n",
      "area_17        0.6044      0.521      1.161      0.246      -0.416       1.625\n",
      "==============================================================================\n",
      "Omnibus:                      154.739   Durbin-Watson:                   1.990\n",
      "Prob(Omnibus):                  0.000   Jarque-Bera (JB):              179.583\n",
      "Skew:                           0.607   Prob(JB):                     1.01e-39\n",
      "Kurtosis:                       3.024   Cond. No.                         170.\n",
      "==============================================================================\n",
      "\n",
      "Warnings:\n",
      "[1] Standard Errors assume that the covariance matrix of the errors is correctly specified.\n"
     ]
    }
   ],
   "source": [
    "# 지역\n",
    "XA = data_d[C_cols]\n",
    "XA = sm.add_constant(XA)\n",
    "\n",
    "# 모든 행 출력\n",
    "pd.set_option('display.max_rows', None)  \n",
    "\n",
    "# linear regression\n",
    "model_A = sm.OLS(Y, XA).fit()\n",
    "print(model_A.summary())"
   ]
  },
  {
   "cell_type": "code",
   "execution_count": 201,
   "metadata": {},
   "outputs": [
    {
     "name": "stdout",
     "output_type": "stream",
     "text": [
      "                            OLS Regression Results                            \n",
      "==============================================================================\n",
      "Dep. Variable:               prac_tot   R-squared:                       0.223\n",
      "Model:                            OLS   Adj. R-squared:                  0.217\n",
      "Method:                 Least Squares   F-statistic:                     33.31\n",
      "Date:                Fri, 01 Nov 2024   Prob (F-statistic):          6.83e-139\n",
      "Time:                        00:21:58   Log-Likelihood:                -6176.9\n",
      "No. Observations:                2923   AIC:                         1.241e+04\n",
      "Df Residuals:                    2897   BIC:                         1.256e+04\n",
      "Df Model:                          25                                         \n",
      "Covariance Type:            nonrobust                                         \n",
      "===============================================================================\n",
      "                  coef    std err          t      P>|t|      [0.025      0.975]\n",
      "-------------------------------------------------------------------------------\n",
      "const          -0.1347      0.092     -1.465      0.143      -0.315       0.046\n",
      "concern        -0.4183      0.063     -6.609      0.000      -0.542      -0.294\n",
      "satis_mean2    -0.1318      0.077     -1.710      0.087      -0.283       0.019\n",
      "aware_tot      -0.1101      0.014     -7.753      0.000      -0.138      -0.082\n",
      "occur           0.1148      0.128      0.900      0.368      -0.135       0.365\n",
      "risk            0.0328      0.083      0.394      0.694      -0.131       0.196\n",
      "risk_me         0.1739      0.067      2.603      0.009       0.043       0.305\n",
      "eco_at          0.7272      0.044     16.531      0.000       0.641       0.813\n",
      "sex            -0.3658      0.076     -4.834      0.000      -0.514      -0.217\n",
      "age            -0.0025      0.003     -0.842      0.400      -0.008       0.003\n",
      "area_2          0.1162      0.167      0.694      0.488      -0.212       0.444\n",
      "area_3          0.4308      0.186      2.321      0.020       0.067       0.795\n",
      "area_4         -0.0084      0.177     -0.047      0.962      -0.355       0.339\n",
      "area_5          0.4605      0.234      1.969      0.049       0.002       0.919\n",
      "area_6          0.8604      0.233      3.700      0.000       0.404       1.316\n",
      "area_7          0.6703      0.258      2.595      0.009       0.164       1.177\n",
      "area_8          0.3379      0.112      3.023      0.003       0.119       0.557\n",
      "area_9          1.0331      0.233      4.436      0.000       0.576       1.490\n",
      "area_10         0.5138      0.238      2.163      0.031       0.048       0.980\n",
      "area_11         0.5710      0.207      2.759      0.006       0.165       0.977\n",
      "area_12         0.5231      0.224      2.336      0.020       0.084       0.962\n",
      "area_13         0.2857      0.221      1.294      0.196      -0.147       0.719\n",
      "area_14         0.1169      0.187      0.625      0.532      -0.250       0.484\n",
      "area_15         0.5136      0.169      3.038      0.002       0.182       0.845\n",
      "area_16         0.5899      0.360      1.637      0.102      -0.117       1.296\n",
      "area_17         0.4088      0.469      0.871      0.384      -0.512       1.329\n",
      "==============================================================================\n",
      "Omnibus:                      104.441   Durbin-Watson:                   1.970\n",
      "Prob(Omnibus):                  0.000   Jarque-Bera (JB):              115.059\n",
      "Skew:                           0.473   Prob(JB):                     1.04e-25\n",
      "Kurtosis:                       3.225   Cond. No.                         170.\n",
      "==============================================================================\n",
      "\n",
      "Warnings:\n",
      "[1] Standard Errors assume that the covariance matrix of the errors is correctly specified.\n"
     ]
    }
   ],
   "source": [
    "# 성별 및 지역 통제\n",
    "XC = data_d[X_cols + C_cols]\n",
    "XC = sm.add_constant(XC)\n",
    "\n",
    "# linear regression\n",
    "model_addC = sm.OLS(Y, XC).fit()\n",
    "print(model_addC.summary())"
   ]
  }
 ],
 "metadata": {
  "kernelspec": {
   "display_name": "base",
   "language": "python",
   "name": "python3"
  },
  "language_info": {
   "codemirror_mode": {
    "name": "ipython",
    "version": 3
   },
   "file_extension": ".py",
   "mimetype": "text/x-python",
   "name": "python",
   "nbconvert_exporter": "python",
   "pygments_lexer": "ipython3",
   "version": "3.7.4"
  }
 },
 "nbformat": 4,
 "nbformat_minor": 2
}
