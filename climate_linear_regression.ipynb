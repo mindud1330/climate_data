{
 "cells": [
  {
   "cell_type": "code",
   "execution_count": 1,
   "metadata": {},
   "outputs": [],
   "source": [
    "import pandas as pd"
   ]
  },
  {
   "cell_type": "code",
   "execution_count": 2,
   "metadata": {},
   "outputs": [],
   "source": [
    "df = pd.read_excel(\"climate_survey-2018.xlsx\")"
   ]
  },
  {
   "cell_type": "code",
   "execution_count": 3,
   "metadata": {},
   "outputs": [],
   "source": [
    "df = df.dropna()"
   ]
  },
  {
   "cell_type": "code",
   "execution_count": 4,
   "metadata": {},
   "outputs": [
    {
     "name": "stdout",
     "output_type": "stream",
     "text": [
      "Index(['id', 'area', 'sex', 'age', 'edu', 'job', 'marry', 'child', 'income',\n",
      "       'pol', 'concern', 'satis1', 'satis2', 'satis3', 'satis4', 'satis5',\n",
      "       'satis6', 'satis7', 'satis8', 'satis_gen', 'satis_mean1', 'satis_mean2',\n",
      "       'aware1', 'aware2', 'aware3', 'aware4', 'aware5', 'aware6', 'aware7',\n",
      "       'aware8', 'aware9', 'aware10', 'aware11', 'aware12', 'aware13',\n",
      "       'aware14', 'aware15', 'aware16', 'aware17', 'aware_tot', 'occur',\n",
      "       'risk', 'risk_me', 'eco_at', 'prac1', 'prac2', 'prac3', 'prac4',\n",
      "       'prac5', 'prac6', 'prac7', 'prac8', 'prac9', 'prac_tot'],\n",
      "      dtype='object')\n"
     ]
    }
   ],
   "source": [
    "print(df.columns)"
   ]
  },
  {
   "cell_type": "code",
   "execution_count": 5,
   "metadata": {},
   "outputs": [],
   "source": [
    "X_cols = ['concern', 'satis_mean2', 'aware_tot', \n",
    "        'occur', 'risk', 'risk_me', 'eco_at']\n",
    "Y_cols = ['prac_tot']\n",
    "C_cols = ['sex', 'age', 'area', 'edu', 'job', 'marry', 'child', 'income', 'pol']"
   ]
  },
  {
   "cell_type": "code",
   "execution_count": 6,
   "metadata": {},
   "outputs": [],
   "source": [
    "data = df[X_cols + Y_cols + C_cols]"
   ]
  },
  {
   "cell_type": "code",
   "execution_count": 7,
   "metadata": {},
   "outputs": [],
   "source": [
    "center_cols = ['concern', 'satis_mean2', 'aware_tot', 'occur', 'risk', 'risk_me', 'eco_at', \n",
    "               'prac_tot', \n",
    "               'age', 'edu', 'income', 'pol']\n",
    "data_centered = data.copy()"
   ]
  },
  {
   "cell_type": "code",
   "execution_count": 8,
   "metadata": {},
   "outputs": [
    {
     "data": {
      "text/html": [
       "<div>\n",
       "<style scoped>\n",
       "    .dataframe tbody tr th:only-of-type {\n",
       "        vertical-align: middle;\n",
       "    }\n",
       "\n",
       "    .dataframe tbody tr th {\n",
       "        vertical-align: top;\n",
       "    }\n",
       "\n",
       "    .dataframe thead th {\n",
       "        text-align: right;\n",
       "    }\n",
       "</style>\n",
       "<table border=\"1\" class=\"dataframe\">\n",
       "  <thead>\n",
       "    <tr style=\"text-align: right;\">\n",
       "      <th></th>\n",
       "      <th>concern</th>\n",
       "      <th>satis_mean2</th>\n",
       "      <th>aware_tot</th>\n",
       "      <th>occur</th>\n",
       "      <th>risk</th>\n",
       "      <th>risk_me</th>\n",
       "      <th>eco_at</th>\n",
       "      <th>prac_tot</th>\n",
       "      <th>sex</th>\n",
       "      <th>age</th>\n",
       "      <th>area</th>\n",
       "      <th>edu</th>\n",
       "      <th>job</th>\n",
       "      <th>marry</th>\n",
       "      <th>child</th>\n",
       "      <th>income</th>\n",
       "      <th>pol</th>\n",
       "    </tr>\n",
       "  </thead>\n",
       "  <tbody>\n",
       "    <tr>\n",
       "      <td>0</td>\n",
       "      <td>-0.917611</td>\n",
       "      <td>0.07824</td>\n",
       "      <td>-0.828699</td>\n",
       "      <td>0.073464</td>\n",
       "      <td>-0.096121</td>\n",
       "      <td>0.27875</td>\n",
       "      <td>0.154137</td>\n",
       "      <td>-2.209406</td>\n",
       "      <td>1</td>\n",
       "      <td>-20.090285</td>\n",
       "      <td>8</td>\n",
       "      <td>0.106076</td>\n",
       "      <td>11</td>\n",
       "      <td>1</td>\n",
       "      <td>0</td>\n",
       "      <td>1.908342</td>\n",
       "      <td>-0.853416</td>\n",
       "    </tr>\n",
       "    <tr>\n",
       "      <td>1</td>\n",
       "      <td>0.082389</td>\n",
       "      <td>0.30324</td>\n",
       "      <td>5.171301</td>\n",
       "      <td>-0.926536</td>\n",
       "      <td>-1.096121</td>\n",
       "      <td>-0.72125</td>\n",
       "      <td>-0.845863</td>\n",
       "      <td>1.790594</td>\n",
       "      <td>0</td>\n",
       "      <td>-4.090285</td>\n",
       "      <td>13</td>\n",
       "      <td>0.106076</td>\n",
       "      <td>6</td>\n",
       "      <td>2</td>\n",
       "      <td>1</td>\n",
       "      <td>-3.091658</td>\n",
       "      <td>0.146584</td>\n",
       "    </tr>\n",
       "    <tr>\n",
       "      <td>2</td>\n",
       "      <td>0.082389</td>\n",
       "      <td>-0.82176</td>\n",
       "      <td>-2.828699</td>\n",
       "      <td>0.073464</td>\n",
       "      <td>-1.096121</td>\n",
       "      <td>-0.72125</td>\n",
       "      <td>-0.845863</td>\n",
       "      <td>-5.209406</td>\n",
       "      <td>0</td>\n",
       "      <td>7.909715</td>\n",
       "      <td>8</td>\n",
       "      <td>0.106076</td>\n",
       "      <td>7</td>\n",
       "      <td>2</td>\n",
       "      <td>1</td>\n",
       "      <td>-1.091658</td>\n",
       "      <td>0.146584</td>\n",
       "    </tr>\n",
       "    <tr>\n",
       "      <td>3</td>\n",
       "      <td>0.082389</td>\n",
       "      <td>-0.48426</td>\n",
       "      <td>-1.828699</td>\n",
       "      <td>0.073464</td>\n",
       "      <td>0.903879</td>\n",
       "      <td>1.27875</td>\n",
       "      <td>1.154137</td>\n",
       "      <td>-4.209406</td>\n",
       "      <td>1</td>\n",
       "      <td>-1.090285</td>\n",
       "      <td>15</td>\n",
       "      <td>0.106076</td>\n",
       "      <td>9</td>\n",
       "      <td>2</td>\n",
       "      <td>1</td>\n",
       "      <td>-1.091658</td>\n",
       "      <td>0.146584</td>\n",
       "    </tr>\n",
       "    <tr>\n",
       "      <td>4</td>\n",
       "      <td>0.082389</td>\n",
       "      <td>-0.14676</td>\n",
       "      <td>1.171301</td>\n",
       "      <td>0.073464</td>\n",
       "      <td>0.903879</td>\n",
       "      <td>0.27875</td>\n",
       "      <td>1.154137</td>\n",
       "      <td>0.790594</td>\n",
       "      <td>1</td>\n",
       "      <td>-7.090285</td>\n",
       "      <td>10</td>\n",
       "      <td>0.106076</td>\n",
       "      <td>6</td>\n",
       "      <td>2</td>\n",
       "      <td>1</td>\n",
       "      <td>1.908342</td>\n",
       "      <td>0.146584</td>\n",
       "    </tr>\n",
       "  </tbody>\n",
       "</table>\n",
       "</div>"
      ],
      "text/plain": [
       "    concern  satis_mean2  aware_tot     occur      risk  risk_me    eco_at  \\\n",
       "0 -0.917611      0.07824  -0.828699  0.073464 -0.096121  0.27875  0.154137   \n",
       "1  0.082389      0.30324   5.171301 -0.926536 -1.096121 -0.72125 -0.845863   \n",
       "2  0.082389     -0.82176  -2.828699  0.073464 -1.096121 -0.72125 -0.845863   \n",
       "3  0.082389     -0.48426  -1.828699  0.073464  0.903879  1.27875  1.154137   \n",
       "4  0.082389     -0.14676   1.171301  0.073464  0.903879  0.27875  1.154137   \n",
       "\n",
       "   prac_tot  sex        age  area       edu  job  marry  child    income  \\\n",
       "0 -2.209406    1 -20.090285     8  0.106076   11      1      0  1.908342   \n",
       "1  1.790594    0  -4.090285    13  0.106076    6      2      1 -3.091658   \n",
       "2 -5.209406    0   7.909715     8  0.106076    7      2      1 -1.091658   \n",
       "3 -4.209406    1  -1.090285    15  0.106076    9      2      1 -1.091658   \n",
       "4  0.790594    1  -7.090285    10  0.106076    6      2      1  1.908342   \n",
       "\n",
       "        pol  \n",
       "0 -0.853416  \n",
       "1  0.146584  \n",
       "2  0.146584  \n",
       "3  0.146584  \n",
       "4  0.146584  "
      ]
     },
     "execution_count": 8,
     "metadata": {},
     "output_type": "execute_result"
    }
   ],
   "source": [
    "data_centered[center_cols] = data_centered[center_cols].apply(lambda x: x - x.mean())\n",
    "data_centered.head()"
   ]
  },
  {
   "cell_type": "code",
   "execution_count": 9,
   "metadata": {},
   "outputs": [
    {
     "name": "stdout",
     "output_type": "stream",
     "text": [
      "Index(['concern', 'satis_mean2', 'aware_tot', 'occur', 'risk', 'risk_me',\n",
      "       'eco_at', 'prac_tot', 'sex', 'age', 'area', 'edu', 'job', 'marry',\n",
      "       'child', 'income', 'pol'],\n",
      "      dtype='object')\n"
     ]
    }
   ],
   "source": [
    "print(data.columns)"
   ]
  },
  {
   "cell_type": "code",
   "execution_count": 10,
   "metadata": {},
   "outputs": [],
   "source": [
    "import statsmodels.api as sm\n",
    "from statsmodels.stats.outliers_influence import variance_inflation_factor"
   ]
  },
  {
   "cell_type": "markdown",
   "metadata": {},
   "source": [
    "## 다중회귀분석"
   ]
  },
  {
   "cell_type": "markdown",
   "metadata": {},
   "source": [
    "### 모든 독립 변인"
   ]
  },
  {
   "cell_type": "code",
   "execution_count": 11,
   "metadata": {},
   "outputs": [
    {
     "name": "stdout",
     "output_type": "stream",
     "text": [
      "                            OLS Regression Results                            \n",
      "==============================================================================\n",
      "Dep. Variable:               prac_tot   R-squared:                       0.267\n",
      "Model:                            OLS   Adj. R-squared:                  0.266\n",
      "Method:                 Least Squares   F-statistic:                     151.4\n",
      "Date:                Mon, 04 Nov 2024   Prob (F-statistic):          6.13e-191\n",
      "Time:                        21:44:13   Log-Likelihood:                -6073.7\n",
      "No. Observations:                2913   AIC:                         1.216e+04\n",
      "Df Residuals:                    2905   BIC:                         1.221e+04\n",
      "Df Model:                           7                                         \n",
      "Covariance Type:            nonrobust                                         \n",
      "===============================================================================\n",
      "                  coef    std err          t      P>|t|      [0.025      0.975]\n",
      "-------------------------------------------------------------------------------\n",
      "const           6.2874      0.524     12.000      0.000       5.260       7.315\n",
      "concern         0.5259      0.061      8.604      0.000       0.406       0.646\n",
      "satis_mean2    -0.0006      0.074     -0.008      0.994      -0.146       0.145\n",
      "aware_tot       0.1409      0.014     10.416      0.000       0.114       0.167\n",
      "occur           0.1503      0.133      1.133      0.257      -0.110       0.410\n",
      "risk           -0.0375      0.081     -0.464      0.642      -0.196       0.121\n",
      "risk_me         0.2004      0.064      3.118      0.002       0.074       0.326\n",
      "eco_at          0.8230      0.042     19.498      0.000       0.740       0.906\n",
      "==============================================================================\n",
      "Omnibus:                       24.451   Durbin-Watson:                   1.958\n",
      "Prob(Omnibus):                  0.000   Jarque-Bera (JB):               24.979\n",
      "Skew:                          -0.226   Prob(JB):                     3.77e-06\n",
      "Kurtosis:                       2.956   Cond. No.                         220.\n",
      "==============================================================================\n",
      "\n",
      "Warnings:\n",
      "[1] Standard Errors assume that the covariance matrix of the errors is correctly specified.\n"
     ]
    },
    {
     "name": "stderr",
     "output_type": "stream",
     "text": [
      "/Users/min/.pyenv/versions/anaconda3-2019.10/lib/python3.7/site-packages/numpy/core/fromnumeric.py:2495: FutureWarning: Method .ptp is deprecated and will be removed in a future version. Use numpy.ptp instead.\n",
      "  return ptp(axis=axis, out=out, **kwargs)\n"
     ]
    }
   ],
   "source": [
    "Y = data['prac_tot']\n",
    "X = data[X_cols]\n",
    "\n",
    "X = sm.add_constant(X)\n",
    "\n",
    "# linear regression\n",
    "model = sm.OLS(Y, X).fit()\n",
    "print(model.summary())"
   ]
  },
  {
   "cell_type": "code",
   "execution_count": 12,
   "metadata": {},
   "outputs": [
    {
     "name": "stdout",
     "output_type": "stream",
     "text": [
      "       feature         VIF\n",
      "0        const  210.447730\n",
      "1      concern    1.264490\n",
      "2  satis_mean2    1.128189\n",
      "3    aware_tot    1.145001\n",
      "4        occur    1.085054\n",
      "5         risk    1.622464\n",
      "6      risk_me    1.559320\n",
      "7       eco_at    1.187987\n"
     ]
    }
   ],
   "source": [
    "vif_data = pd.DataFrame()\n",
    "vif_data[\"feature\"] = X.columns\n",
    "vif_data[\"VIF\"] = [variance_inflation_factor(X.values, i) for i in range(X.shape[1])]\n",
    "\n",
    "print(vif_data)"
   ]
  },
  {
   "cell_type": "markdown",
   "metadata": {},
   "source": [
    "#### 평균 중심화"
   ]
  },
  {
   "cell_type": "code",
   "execution_count": 13,
   "metadata": {},
   "outputs": [
    {
     "name": "stdout",
     "output_type": "stream",
     "text": [
      "                            OLS Regression Results                            \n",
      "==============================================================================\n",
      "Dep. Variable:               prac_tot   R-squared:                       0.267\n",
      "Model:                            OLS   Adj. R-squared:                  0.266\n",
      "Method:                 Least Squares   F-statistic:                     151.4\n",
      "Date:                Mon, 04 Nov 2024   Prob (F-statistic):          6.13e-191\n",
      "Time:                        21:49:42   Log-Likelihood:                -6073.7\n",
      "No. Observations:                2913   AIC:                         1.216e+04\n",
      "Df Residuals:                    2905   BIC:                         1.221e+04\n",
      "Df Model:                           7                                         \n",
      "Covariance Type:            nonrobust                                         \n",
      "===============================================================================\n",
      "                  coef    std err          t      P>|t|      [0.025      0.975]\n",
      "-------------------------------------------------------------------------------\n",
      "const        9.064e-16      0.036   2.51e-14      1.000      -0.071       0.071\n",
      "concern         0.5259      0.061      8.604      0.000       0.406       0.646\n",
      "satis_mean2    -0.0006      0.074     -0.008      0.994      -0.146       0.145\n",
      "aware_tot       0.1409      0.014     10.416      0.000       0.114       0.167\n",
      "occur           0.1503      0.133      1.133      0.257      -0.110       0.410\n",
      "risk           -0.0375      0.081     -0.464      0.642      -0.196       0.121\n",
      "risk_me         0.2004      0.064      3.118      0.002       0.074       0.326\n",
      "eco_at          0.8230      0.042     19.498      0.000       0.740       0.906\n",
      "==============================================================================\n",
      "Omnibus:                       24.451   Durbin-Watson:                   1.958\n",
      "Prob(Omnibus):                  0.000   Jarque-Bera (JB):               24.979\n",
      "Skew:                          -0.226   Prob(JB):                     3.77e-06\n",
      "Kurtosis:                       2.956   Cond. No.                         10.7\n",
      "==============================================================================\n",
      "\n",
      "Warnings:\n",
      "[1] Standard Errors assume that the covariance matrix of the errors is correctly specified.\n"
     ]
    }
   ],
   "source": [
    "Y = data_centered['prac_tot']\n",
    "X_centered = data_centered[X_cols]\n",
    "\n",
    "X_centered = sm.add_constant(X_centered)\n",
    "\n",
    "# linear regression\n",
    "model_centered = sm.OLS(Y, X_centered).fit()\n",
    "print(model_centered.summary())"
   ]
  },
  {
   "cell_type": "code",
   "execution_count": 14,
   "metadata": {},
   "outputs": [
    {
     "name": "stdout",
     "output_type": "stream",
     "text": [
      "       feature       VIF\n",
      "0        const  1.000000\n",
      "1      concern  1.264490\n",
      "2  satis_mean2  1.128189\n",
      "3    aware_tot  1.145001\n",
      "4        occur  1.085054\n",
      "5         risk  1.622464\n",
      "6      risk_me  1.559320\n",
      "7       eco_at  1.187987\n"
     ]
    }
   ],
   "source": [
    "vif_data_centered = pd.DataFrame()\n",
    "vif_data_centered[\"feature\"] = X_centered.columns\n",
    "vif_data_centered[\"VIF\"] = [variance_inflation_factor(X_centered.values, i) for i in range(X_centered.shape[1])]\n",
    "\n",
    "print(vif_data_centered)"
   ]
  },
  {
   "cell_type": "markdown",
   "metadata": {},
   "source": [
    "#### 통제 변인 다중 회귀"
   ]
  },
  {
   "cell_type": "code",
   "execution_count": 15,
   "metadata": {},
   "outputs": [
    {
     "name": "stdout",
     "output_type": "stream",
     "text": [
      "                            OLS Regression Results                            \n",
      "==============================================================================\n",
      "Dep. Variable:               prac_tot   R-squared:                       0.105\n",
      "Model:                            OLS   Adj. R-squared:                  0.102\n",
      "Method:                 Least Squares   F-statistic:                     37.77\n",
      "Date:                Mon, 04 Nov 2024   Prob (F-statistic):           5.96e-64\n",
      "Time:                        21:49:46   Log-Likelihood:                -6365.3\n",
      "No. Observations:                2913   AIC:                         1.275e+04\n",
      "Df Residuals:                    2903   BIC:                         1.281e+04\n",
      "Df Model:                           9                                         \n",
      "Covariance Type:            nonrobust                                         \n",
      "==============================================================================\n",
      "                 coef    std err          t      P>|t|      [0.025      0.975]\n",
      "------------------------------------------------------------------------------\n",
      "const          0.1373      0.223      0.615      0.539      -0.300       0.575\n",
      "sex            0.5635      0.083      6.759      0.000       0.400       0.727\n",
      "age            0.0517      0.004     12.150      0.000       0.043       0.060\n",
      "area          -0.0280      0.009     -3.231      0.001      -0.045      -0.011\n",
      "edu            0.2142      0.069      3.092      0.002       0.078       0.350\n",
      "job            0.0215      0.015      1.414      0.158      -0.008       0.051\n",
      "marry         -0.3234      0.127     -2.540      0.011      -0.573      -0.074\n",
      "child          0.3199      0.150      2.133      0.033       0.026       0.614\n",
      "income         0.0121      0.018      0.681      0.496      -0.023       0.047\n",
      "pol           -0.1619      0.045     -3.631      0.000      -0.249      -0.074\n",
      "==============================================================================\n",
      "Omnibus:                       74.300   Durbin-Watson:                   1.967\n",
      "Prob(Omnibus):                  0.000   Jarque-Bera (JB):               77.378\n",
      "Skew:                          -0.384   Prob(JB):                     1.58e-17\n",
      "Kurtosis:                       2.779   Cond. No.                         83.5\n",
      "==============================================================================\n",
      "\n",
      "Warnings:\n",
      "[1] Standard Errors assume that the covariance matrix of the errors is correctly specified.\n"
     ]
    }
   ],
   "source": [
    "C = data_centered[C_cols]\n",
    "C = sm.add_constant(C)\n",
    "\n",
    "# linear regression\n",
    "modelC = sm.OLS(Y, C).fit()\n",
    "print(modelC.summary())"
   ]
  },
  {
   "cell_type": "code",
   "execution_count": 16,
   "metadata": {},
   "outputs": [
    {
     "name": "stdout",
     "output_type": "stream",
     "text": [
      "  feature        VIF\n",
      "0   const  31.264413\n",
      "1     sex   1.087823\n",
      "2     age   1.965874\n",
      "3    area   1.020621\n",
      "4     edu   1.103931\n",
      "5     job   1.086084\n",
      "6   marry   2.893427\n",
      "7   child   3.149367\n",
      "8  income   1.082729\n",
      "9     pol   1.043865\n"
     ]
    }
   ],
   "source": [
    "vif_data_c = pd.DataFrame()\n",
    "vif_data_c[\"feature\"] = C.columns\n",
    "vif_data_c[\"VIF\"] = [variance_inflation_factor(C.values, i) for i in range(C.shape[1])]\n",
    "\n",
    "print(vif_data_c)"
   ]
  },
  {
   "cell_type": "markdown",
   "metadata": {},
   "source": [
    "#### 통제 변인 추가"
   ]
  },
  {
   "cell_type": "code",
   "execution_count": 17,
   "metadata": {},
   "outputs": [],
   "source": [
    "C_cols = ['sex', 'age']"
   ]
  },
  {
   "cell_type": "code",
   "execution_count": 18,
   "metadata": {},
   "outputs": [
    {
     "name": "stdout",
     "output_type": "stream",
     "text": [
      "                            OLS Regression Results                            \n",
      "==============================================================================\n",
      "Dep. Variable:               prac_tot   R-squared:                       0.303\n",
      "Model:                            OLS   Adj. R-squared:                  0.301\n",
      "Method:                 Least Squares   F-statistic:                     140.5\n",
      "Date:                Mon, 04 Nov 2024   Prob (F-statistic):          1.70e-220\n",
      "Time:                        21:49:50   Log-Likelihood:                -5999.9\n",
      "No. Observations:                2913   AIC:                         1.202e+04\n",
      "Df Residuals:                    2903   BIC:                         1.208e+04\n",
      "Df Model:                           9                                         \n",
      "Covariance Type:            nonrobust                                         \n",
      "===============================================================================\n",
      "                  coef    std err          t      P>|t|      [0.025      0.975]\n",
      "-------------------------------------------------------------------------------\n",
      "const          -0.2282      0.049     -4.645      0.000      -0.324      -0.132\n",
      "concern         0.4723      0.060      7.893      0.000       0.355       0.590\n",
      "satis_mean2    -0.0161      0.073     -0.221      0.825      -0.159       0.127\n",
      "aware_tot       0.1262      0.013      9.406      0.000       0.100       0.152\n",
      "occur           0.1128      0.129      0.872      0.383      -0.141       0.367\n",
      "risk           -0.0565      0.079     -0.716      0.474      -0.211       0.098\n",
      "risk_me         0.2288      0.063      3.627      0.000       0.105       0.352\n",
      "eco_at          0.7584      0.042     18.259      0.000       0.677       0.840\n",
      "sex             0.4775      0.072      6.664      0.000       0.337       0.618\n",
      "age             0.0283      0.003     10.108      0.000       0.023       0.034\n",
      "==============================================================================\n",
      "Omnibus:                       34.864   Durbin-Watson:                   1.963\n",
      "Prob(Omnibus):                  0.000   Jarque-Bera (JB):               35.897\n",
      "Skew:                          -0.272   Prob(JB):                     1.60e-08\n",
      "Kurtosis:                       3.019   Cond. No.                         48.9\n",
      "==============================================================================\n",
      "\n",
      "Warnings:\n",
      "[1] Standard Errors assume that the covariance matrix of the errors is correctly specified.\n"
     ]
    }
   ],
   "source": [
    "# 성별 & 나이 통제\n",
    "XC = data_centered[X_cols + C_cols]\n",
    "XC = sm.add_constant(XC)\n",
    "\n",
    "# linear regression\n",
    "model_addC = sm.OLS(Y, XC).fit()\n",
    "print(model_addC.summary())"
   ]
  },
  {
   "cell_type": "code",
   "execution_count": 19,
   "metadata": {},
   "outputs": [
    {
     "name": "stdout",
     "output_type": "stream",
     "text": [
      "       feature       VIF\n",
      "0        const  1.944792\n",
      "1      concern  1.274039\n",
      "2  satis_mean2  1.139866\n",
      "3    aware_tot  1.183747\n",
      "4        occur  1.085943\n",
      "5         risk  1.623511\n",
      "6      risk_me  1.578269\n",
      "7       eco_at  1.209478\n",
      "8          sex  1.032348\n",
      "9          age  1.092581\n"
     ]
    }
   ],
   "source": [
    "vif_data_c = pd.DataFrame()\n",
    "vif_data_c[\"feature\"] = XC.columns\n",
    "vif_data_c[\"VIF\"] = [variance_inflation_factor(XC.values, i) for i in range(XC.shape[1])]\n",
    "\n",
    "print(vif_data_c)"
   ]
  },
  {
   "cell_type": "markdown",
   "metadata": {},
   "source": [
    "##### 통제 변인으로 지역 추가"
   ]
  },
  {
   "cell_type": "code",
   "execution_count": 20,
   "metadata": {},
   "outputs": [
    {
     "data": {
      "text/html": [
       "<div>\n",
       "<style scoped>\n",
       "    .dataframe tbody tr th:only-of-type {\n",
       "        vertical-align: middle;\n",
       "    }\n",
       "\n",
       "    .dataframe tbody tr th {\n",
       "        vertical-align: top;\n",
       "    }\n",
       "\n",
       "    .dataframe thead th {\n",
       "        text-align: right;\n",
       "    }\n",
       "</style>\n",
       "<table border=\"1\" class=\"dataframe\">\n",
       "  <thead>\n",
       "    <tr style=\"text-align: right;\">\n",
       "      <th></th>\n",
       "      <th>concern</th>\n",
       "      <th>satis_mean2</th>\n",
       "      <th>aware_tot</th>\n",
       "      <th>occur</th>\n",
       "      <th>risk</th>\n",
       "      <th>risk_me</th>\n",
       "      <th>eco_at</th>\n",
       "      <th>prac_tot</th>\n",
       "      <th>sex</th>\n",
       "      <th>age</th>\n",
       "      <th>...</th>\n",
       "      <th>area_8</th>\n",
       "      <th>area_9</th>\n",
       "      <th>area_10</th>\n",
       "      <th>area_11</th>\n",
       "      <th>area_12</th>\n",
       "      <th>area_13</th>\n",
       "      <th>area_14</th>\n",
       "      <th>area_15</th>\n",
       "      <th>area_16</th>\n",
       "      <th>area_17</th>\n",
       "    </tr>\n",
       "  </thead>\n",
       "  <tbody>\n",
       "    <tr>\n",
       "      <td>0</td>\n",
       "      <td>-0.917611</td>\n",
       "      <td>0.07824</td>\n",
       "      <td>-0.828699</td>\n",
       "      <td>0.073464</td>\n",
       "      <td>-0.096121</td>\n",
       "      <td>0.27875</td>\n",
       "      <td>0.154137</td>\n",
       "      <td>-2.209406</td>\n",
       "      <td>1</td>\n",
       "      <td>-20.090285</td>\n",
       "      <td>...</td>\n",
       "      <td>1</td>\n",
       "      <td>0</td>\n",
       "      <td>0</td>\n",
       "      <td>0</td>\n",
       "      <td>0</td>\n",
       "      <td>0</td>\n",
       "      <td>0</td>\n",
       "      <td>0</td>\n",
       "      <td>0</td>\n",
       "      <td>0</td>\n",
       "    </tr>\n",
       "    <tr>\n",
       "      <td>1</td>\n",
       "      <td>0.082389</td>\n",
       "      <td>0.30324</td>\n",
       "      <td>5.171301</td>\n",
       "      <td>-0.926536</td>\n",
       "      <td>-1.096121</td>\n",
       "      <td>-0.72125</td>\n",
       "      <td>-0.845863</td>\n",
       "      <td>1.790594</td>\n",
       "      <td>0</td>\n",
       "      <td>-4.090285</td>\n",
       "      <td>...</td>\n",
       "      <td>0</td>\n",
       "      <td>0</td>\n",
       "      <td>0</td>\n",
       "      <td>0</td>\n",
       "      <td>0</td>\n",
       "      <td>1</td>\n",
       "      <td>0</td>\n",
       "      <td>0</td>\n",
       "      <td>0</td>\n",
       "      <td>0</td>\n",
       "    </tr>\n",
       "    <tr>\n",
       "      <td>2</td>\n",
       "      <td>0.082389</td>\n",
       "      <td>-0.82176</td>\n",
       "      <td>-2.828699</td>\n",
       "      <td>0.073464</td>\n",
       "      <td>-1.096121</td>\n",
       "      <td>-0.72125</td>\n",
       "      <td>-0.845863</td>\n",
       "      <td>-5.209406</td>\n",
       "      <td>0</td>\n",
       "      <td>7.909715</td>\n",
       "      <td>...</td>\n",
       "      <td>1</td>\n",
       "      <td>0</td>\n",
       "      <td>0</td>\n",
       "      <td>0</td>\n",
       "      <td>0</td>\n",
       "      <td>0</td>\n",
       "      <td>0</td>\n",
       "      <td>0</td>\n",
       "      <td>0</td>\n",
       "      <td>0</td>\n",
       "    </tr>\n",
       "    <tr>\n",
       "      <td>3</td>\n",
       "      <td>0.082389</td>\n",
       "      <td>-0.48426</td>\n",
       "      <td>-1.828699</td>\n",
       "      <td>0.073464</td>\n",
       "      <td>0.903879</td>\n",
       "      <td>1.27875</td>\n",
       "      <td>1.154137</td>\n",
       "      <td>-4.209406</td>\n",
       "      <td>1</td>\n",
       "      <td>-1.090285</td>\n",
       "      <td>...</td>\n",
       "      <td>0</td>\n",
       "      <td>0</td>\n",
       "      <td>0</td>\n",
       "      <td>0</td>\n",
       "      <td>0</td>\n",
       "      <td>0</td>\n",
       "      <td>0</td>\n",
       "      <td>1</td>\n",
       "      <td>0</td>\n",
       "      <td>0</td>\n",
       "    </tr>\n",
       "    <tr>\n",
       "      <td>4</td>\n",
       "      <td>0.082389</td>\n",
       "      <td>-0.14676</td>\n",
       "      <td>1.171301</td>\n",
       "      <td>0.073464</td>\n",
       "      <td>0.903879</td>\n",
       "      <td>0.27875</td>\n",
       "      <td>1.154137</td>\n",
       "      <td>0.790594</td>\n",
       "      <td>1</td>\n",
       "      <td>-7.090285</td>\n",
       "      <td>...</td>\n",
       "      <td>0</td>\n",
       "      <td>0</td>\n",
       "      <td>1</td>\n",
       "      <td>0</td>\n",
       "      <td>0</td>\n",
       "      <td>0</td>\n",
       "      <td>0</td>\n",
       "      <td>0</td>\n",
       "      <td>0</td>\n",
       "      <td>0</td>\n",
       "    </tr>\n",
       "  </tbody>\n",
       "</table>\n",
       "<p>5 rows × 32 columns</p>\n",
       "</div>"
      ],
      "text/plain": [
       "    concern  satis_mean2  aware_tot     occur      risk  risk_me    eco_at  \\\n",
       "0 -0.917611      0.07824  -0.828699  0.073464 -0.096121  0.27875  0.154137   \n",
       "1  0.082389      0.30324   5.171301 -0.926536 -1.096121 -0.72125 -0.845863   \n",
       "2  0.082389     -0.82176  -2.828699  0.073464 -1.096121 -0.72125 -0.845863   \n",
       "3  0.082389     -0.48426  -1.828699  0.073464  0.903879  1.27875  1.154137   \n",
       "4  0.082389     -0.14676   1.171301  0.073464  0.903879  0.27875  1.154137   \n",
       "\n",
       "   prac_tot  sex        age  ...  area_8  area_9  area_10  area_11  area_12  \\\n",
       "0 -2.209406    1 -20.090285  ...       1       0        0        0        0   \n",
       "1  1.790594    0  -4.090285  ...       0       0        0        0        0   \n",
       "2 -5.209406    0   7.909715  ...       1       0        0        0        0   \n",
       "3 -4.209406    1  -1.090285  ...       0       0        0        0        0   \n",
       "4  0.790594    1  -7.090285  ...       0       0        1        0        0   \n",
       "\n",
       "   area_13  area_14  area_15  area_16  area_17  \n",
       "0        0        0        0        0        0  \n",
       "1        1        0        0        0        0  \n",
       "2        0        0        0        0        0  \n",
       "3        0        0        1        0        0  \n",
       "4        0        0        0        0        0  \n",
       "\n",
       "[5 rows x 32 columns]"
      ]
     },
     "execution_count": 20,
     "metadata": {},
     "output_type": "execute_result"
    }
   ],
   "source": [
    "data_d = pd.get_dummies(data_centered, columns=['area'], drop_first=True)\n",
    "data_d.head()"
   ]
  },
  {
   "cell_type": "code",
   "execution_count": 21,
   "metadata": {},
   "outputs": [
    {
     "name": "stdout",
     "output_type": "stream",
     "text": [
      "Index(['concern', 'satis_mean2', 'aware_tot', 'occur', 'risk', 'risk_me',\n",
      "       'eco_at', 'prac_tot', 'sex', 'age', 'edu', 'job', 'marry', 'child',\n",
      "       'income', 'pol', 'area_2', 'area_3', 'area_4', 'area_5', 'area_6',\n",
      "       'area_7', 'area_8', 'area_9', 'area_10', 'area_11', 'area_12',\n",
      "       'area_13', 'area_14', 'area_15', 'area_16', 'area_17'],\n",
      "      dtype='object')\n"
     ]
    }
   ],
   "source": [
    "print(data_d.columns)"
   ]
  },
  {
   "cell_type": "code",
   "execution_count": 22,
   "metadata": {},
   "outputs": [],
   "source": [
    "area_cols = ['area_2', 'area_3', 'area_4', 'area_5', \n",
    "        'area_6', 'area_7', 'area_8', 'area_9', 'area_10', \n",
    "        'area_11', 'area_12', 'area_13', 'area_14', \n",
    "        'area_15', 'area_16', 'area_17']\n",
    "C_cols = C_cols + area_cols"
   ]
  },
  {
   "cell_type": "code",
   "execution_count": 23,
   "metadata": {},
   "outputs": [
    {
     "name": "stdout",
     "output_type": "stream",
     "text": [
      "                            OLS Regression Results                            \n",
      "==============================================================================\n",
      "Dep. Variable:               prac_tot   R-squared:                       0.102\n",
      "Model:                            OLS   Adj. R-squared:                  0.096\n",
      "Method:                 Least Squares   F-statistic:                     18.19\n",
      "Date:                Mon, 04 Nov 2024   Prob (F-statistic):           2.64e-55\n",
      "Time:                        21:49:58   Log-Likelihood:                -6370.5\n",
      "No. Observations:                2913   AIC:                         1.278e+04\n",
      "Df Residuals:                    2894   BIC:                         1.289e+04\n",
      "Df Model:                          18                                         \n",
      "Covariance Type:            nonrobust                                         \n",
      "==============================================================================\n",
      "                 coef    std err          t      P>|t|      [0.025      0.975]\n",
      "------------------------------------------------------------------------------\n",
      "const          0.0934      0.099      0.948      0.343      -0.100       0.287\n",
      "sex            0.5621      0.080      6.998      0.000       0.405       0.720\n",
      "age            0.0472      0.003     15.476      0.000       0.041       0.053\n",
      "area_2        -0.3355      0.179     -1.873      0.061      -0.687       0.016\n",
      "area_3        -0.4837      0.200     -2.415      0.016      -0.876      -0.091\n",
      "area_4        -0.3326      0.190     -1.747      0.081      -0.706       0.041\n",
      "area_5        -0.3777      0.249     -1.519      0.129      -0.865       0.110\n",
      "area_6        -0.6330      0.250     -2.533      0.011      -1.123      -0.143\n",
      "area_7        -0.7332      0.279     -2.627      0.009      -1.280      -0.186\n",
      "area_8        -0.3200      0.120     -2.661      0.008      -0.556      -0.084\n",
      "area_9        -1.1202      0.250     -4.481      0.000      -1.610      -0.630\n",
      "area_10       -0.6067      0.258     -2.352      0.019      -1.113      -0.101\n",
      "area_11       -0.6352      0.222     -2.856      0.004      -1.071      -0.199\n",
      "area_12       -0.7354      0.239     -3.070      0.002      -1.205      -0.266\n",
      "area_13       -0.3850      0.237     -1.622      0.105      -0.851       0.081\n",
      "area_14       -0.3464      0.202     -1.715      0.086      -0.742       0.050\n",
      "area_15       -0.4812      0.181     -2.656      0.008      -0.836      -0.126\n",
      "area_16       -0.4505      0.387     -1.164      0.244      -1.209       0.308\n",
      "area_17       -0.7255      0.504     -1.439      0.150      -1.714       0.263\n",
      "==============================================================================\n",
      "Omnibus:                       74.945   Durbin-Watson:                   1.972\n",
      "Prob(Omnibus):                  0.000   Jarque-Bera (JB):               76.781\n",
      "Skew:                          -0.377   Prob(JB):                     2.12e-17\n",
      "Kurtosis:                       2.744   Cond. No.                         170.\n",
      "==============================================================================\n",
      "\n",
      "Warnings:\n",
      "[1] Standard Errors assume that the covariance matrix of the errors is correctly specified.\n"
     ]
    }
   ],
   "source": [
    "# 지역\n",
    "XA = data_d[C_cols]\n",
    "XA = sm.add_constant(XA)\n",
    "\n",
    "# 모든 행 출력\n",
    "pd.set_option('display.max_rows', None)  \n",
    "\n",
    "# linear regression\n",
    "model_A = sm.OLS(Y, XA).fit()\n",
    "print(model_A.summary())"
   ]
  },
  {
   "cell_type": "code",
   "execution_count": 24,
   "metadata": {},
   "outputs": [
    {
     "name": "stdout",
     "output_type": "stream",
     "text": [
      "                            OLS Regression Results                            \n",
      "==============================================================================\n",
      "Dep. Variable:               prac_tot   R-squared:                       0.312\n",
      "Model:                            OLS   Adj. R-squared:                  0.306\n",
      "Method:                 Least Squares   F-statistic:                     52.41\n",
      "Date:                Mon, 04 Nov 2024   Prob (F-statistic):          6.48e-213\n",
      "Time:                        21:50:01   Log-Likelihood:                -5981.6\n",
      "No. Observations:                2913   AIC:                         1.202e+04\n",
      "Df Residuals:                    2887   BIC:                         1.217e+04\n",
      "Df Model:                          25                                         \n",
      "Covariance Type:            nonrobust                                         \n",
      "===============================================================================\n",
      "                  coef    std err          t      P>|t|      [0.025      0.975]\n",
      "-------------------------------------------------------------------------------\n",
      "const           0.0342      0.087      0.395      0.693      -0.136       0.204\n",
      "concern         0.4741      0.060      7.933      0.000       0.357       0.591\n",
      "satis_mean2     0.0019      0.073      0.026      0.979      -0.141       0.145\n",
      "aware_tot       0.1269      0.013      9.480      0.000       0.101       0.153\n",
      "occur           0.1156      0.130      0.892      0.373      -0.139       0.370\n",
      "risk           -0.0375      0.079     -0.476      0.634      -0.192       0.117\n",
      "risk_me         0.2127      0.063      3.375      0.001       0.089       0.336\n",
      "eco_at          0.7550      0.042     18.154      0.000       0.673       0.837\n",
      "sex             0.4674      0.071      6.540      0.000       0.327       0.608\n",
      "age             0.0286      0.003     10.237      0.000       0.023       0.034\n",
      "area_2         -0.1308      0.158     -0.830      0.407      -0.440       0.178\n",
      "area_3         -0.3725      0.176     -2.119      0.034      -0.717      -0.028\n",
      "area_4         -0.1440      0.167     -0.862      0.389      -0.472       0.184\n",
      "area_5         -0.2389      0.218     -1.094      0.274      -0.667       0.189\n",
      "area_6         -0.6420      0.219     -2.931      0.003      -1.071      -0.212\n",
      "area_7         -0.4671      0.245     -1.907      0.057      -0.947       0.013\n",
      "area_8         -0.2075      0.106     -1.966      0.049      -0.414      -0.001\n",
      "area_9         -0.8505      0.219     -3.876      0.000      -1.281      -0.420\n",
      "area_10        -0.4339      0.226     -1.918      0.055      -0.878       0.010\n",
      "area_11        -0.6045      0.195     -3.101      0.002      -0.987      -0.222\n",
      "area_12        -0.5989      0.210     -2.852      0.004      -1.011      -0.187\n",
      "area_13        -0.5112      0.208     -2.457      0.014      -0.919      -0.103\n",
      "area_14        -0.1538      0.177     -0.868      0.386      -0.501       0.194\n",
      "area_15        -0.2966      0.159     -1.866      0.062      -0.608       0.015\n",
      "area_16        -0.5230      0.339     -1.541      0.123      -1.188       0.142\n",
      "area_17        -0.5049      0.442     -1.142      0.254      -1.372       0.362\n",
      "==============================================================================\n",
      "Omnibus:                       32.560   Durbin-Watson:                   1.967\n",
      "Prob(Omnibus):                  0.000   Jarque-Bera (JB):               33.390\n",
      "Skew:                          -0.261   Prob(JB):                     5.62e-08\n",
      "Kurtosis:                       3.052   Cond. No.                         170.\n",
      "==============================================================================\n",
      "\n",
      "Warnings:\n",
      "[1] Standard Errors assume that the covariance matrix of the errors is correctly specified.\n"
     ]
    }
   ],
   "source": [
    "# 성별 및 지역 통제\n",
    "XC = data_d[X_cols + C_cols]\n",
    "XC = sm.add_constant(XC)\n",
    "\n",
    "# linear regression\n",
    "model_addC = sm.OLS(Y, XC).fit()\n",
    "print(model_addC.summary())"
   ]
  }
 ],
 "metadata": {
  "kernelspec": {
   "display_name": "base",
   "language": "python",
   "name": "python3"
  },
  "language_info": {
   "codemirror_mode": {
    "name": "ipython",
    "version": 3
   },
   "file_extension": ".py",
   "mimetype": "text/x-python",
   "name": "python",
   "nbconvert_exporter": "python",
   "pygments_lexer": "ipython3",
   "version": "3.7.4"
  }
 },
 "nbformat": 4,
 "nbformat_minor": 2
}
